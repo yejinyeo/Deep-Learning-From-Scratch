{
 "cells": [
  {
   "cell_type": "markdown",
   "id": "a1494502-b90c-4176-844e-8dce8fd6288f",
   "metadata": {},
   "source": [
    "# **1. numpy**"
   ]
  },
  {
   "cell_type": "markdown",
   "id": "e936f3bc-c087-4f16-b222-6d4281e08962",
   "metadata": {},
   "source": [
    "#### **numpy.array**\n",
    "- numpy의 배열 class\n",
    "- 딥러닝 구현할 때 numpy.array의 메서드 이용함."
   ]
  },
  {
   "cell_type": "markdown",
   "id": "0b5301ce-b566-46ab-ac1b-833c8336d32a",
   "metadata": {},
   "source": [
    "### **1.1 numpy 가져오기**"
   ]
  },
  {
   "cell_type": "code",
   "execution_count": 12,
   "id": "dca89ee1-e1a2-4064-a53b-8f27d02fc9ec",
   "metadata": {},
   "outputs": [],
   "source": [
    "import numpy as np"
   ]
  },
  {
   "cell_type": "markdown",
   "id": "ec8bbbf1-53a5-4288-9bb2-cf9e64b43620",
   "metadata": {},
   "source": [
    "### **1.2 numpy 배열 생성하기**\n",
    "#### **np.array()**\n",
    "- numpy 배열 생성\n",
    "- 인수: 파이썬의 리스트\n",
    "- 반환: numpy library가 제공하는 numpy.ndarray 형태의 배열"
   ]
  },
  {
   "cell_type": "code",
   "execution_count": 28,
   "id": "3d7c3a80-7628-41f0-a630-8765721cb9ba",
   "metadata": {},
   "outputs": [
    {
     "name": "stdout",
     "output_type": "stream",
     "text": [
      "[1. 2. 3.]\n"
     ]
    },
    {
     "data": {
      "text/plain": [
       "numpy.ndarray"
      ]
     },
     "execution_count": 28,
     "metadata": {},
     "output_type": "execute_result"
    }
   ],
   "source": [
    "x = np.array([1.0, 2.0, 3.0])\n",
    "print(x)\n",
    "type(x)"
   ]
  },
  {
   "cell_type": "markdown",
   "id": "449ba760-22c2-46ed-abf5-744e5d641b3f",
   "metadata": {},
   "source": [
    "### **1.3 numpy의 산술 연산**"
   ]
  },
  {
   "cell_type": "markdown",
   "id": "89391224-dc57-4163-b84a-15449c2b107c",
   "metadata": {},
   "source": [
    "#### **numpy 배열의 원소별 산술 연산**\n",
    "주의) 배열 x, y의 원소 수 동일해야 함."
   ]
  },
  {
   "cell_type": "code",
   "execution_count": 32,
   "id": "24e44403-c059-441c-a4ad-5e226fa62b2d",
   "metadata": {},
   "outputs": [],
   "source": [
    "x = np.array([1.0, 2.0, 3.0])\n",
    "y = np.array([2.0, 4.0, 6.0])"
   ]
  },
  {
   "cell_type": "code",
   "execution_count": 34,
   "id": "b711f23e-7830-46bc-aea1-623e806ef991",
   "metadata": {},
   "outputs": [
    {
     "data": {
      "text/plain": [
       "array([3., 6., 9.])"
      ]
     },
     "execution_count": 34,
     "metadata": {},
     "output_type": "execute_result"
    }
   ],
   "source": [
    "# 원소별(element-wise) 덧셈\n",
    "x + y"
   ]
  },
  {
   "cell_type": "code",
   "execution_count": 36,
   "id": "e6393924-d119-4f8c-b4fe-2f911783ef64",
   "metadata": {},
   "outputs": [
    {
     "data": {
      "text/plain": [
       "array([ 2.,  8., 18.])"
      ]
     },
     "execution_count": 36,
     "metadata": {},
     "output_type": "execute_result"
    }
   ],
   "source": [
    "# 원소별 곱셈 (element-wise product)\n",
    "x * y"
   ]
  },
  {
   "cell_type": "code",
   "execution_count": 38,
   "id": "cfa52713-c8db-49d9-9194-019f73314dd1",
   "metadata": {},
   "outputs": [
    {
     "data": {
      "text/plain": [
       "array([0.5, 0.5, 0.5])"
      ]
     },
     "execution_count": 38,
     "metadata": {},
     "output_type": "execute_result"
    }
   ],
   "source": [
    "x / y"
   ]
  },
  {
   "cell_type": "markdown",
   "id": "f1551943-0a66-45c2-99ea-8b2ce2eec4f0",
   "metadata": {},
   "source": [
    "#### **numpy 배열과 스칼라 조합의 산술 연산**\n",
    "- broadcast(브로드캐스트)"
   ]
  },
  {
   "cell_type": "code",
   "execution_count": 45,
   "id": "7a906bea-7cf7-49aa-8b92-0ebf7da2d4f8",
   "metadata": {},
   "outputs": [
    {
     "data": {
      "text/plain": [
       "array([0.5, 1. , 1.5])"
      ]
     },
     "execution_count": 45,
     "metadata": {},
     "output_type": "execute_result"
    }
   ],
   "source": [
    "x = np.array([1.0, 2.0, 3.0])\n",
    "x / 2.0"
   ]
  },
  {
   "cell_type": "markdown",
   "id": "25c6f10b-ea78-4ac0-b4bf-91afe6d20b5a",
   "metadata": {},
   "source": [
    "### **1.4 numpy의 N차원 배열**\n",
    "- 1차원 배열: vector\n",
    "- 2차원 배열: matrix\n",
    "- tensor: 벡터와 행렬을 일반화한 것"
   ]
  },
  {
   "cell_type": "markdown",
   "id": "0015deb9-e8df-452b-add9-88f9d8f53137",
   "metadata": {},
   "source": [
    "shape: 배열의 각 차원의 크기(원소 수)"
   ]
  },
  {
   "cell_type": "code",
   "execution_count": 50,
   "id": "540dd7bb-7353-420a-a89d-3c5f588d4a41",
   "metadata": {},
   "outputs": [
    {
     "name": "stdout",
     "output_type": "stream",
     "text": [
      "[[1 2]\n",
      " [3 4]]\n"
     ]
    }
   ],
   "source": [
    "# 2차원 배열(행렬)\n",
    "A = np.array([[1, 2], [3, 4]])\n",
    "print(A)"
   ]
  },
  {
   "cell_type": "code",
   "execution_count": 52,
   "id": "0dd47b9c-289d-46c0-855f-0afdd3be7df1",
   "metadata": {},
   "outputs": [
    {
     "data": {
      "text/plain": [
       "(2, 2)"
      ]
     },
     "execution_count": 52,
     "metadata": {},
     "output_type": "execute_result"
    }
   ],
   "source": [
    "A.shape"
   ]
  },
  {
   "cell_type": "code",
   "execution_count": 54,
   "id": "5c186076-0625-425e-a55c-afd6f4c7c2ff",
   "metadata": {},
   "outputs": [
    {
     "data": {
      "text/plain": [
       "dtype('int32')"
      ]
     },
     "execution_count": 54,
     "metadata": {},
     "output_type": "execute_result"
    }
   ],
   "source": [
    "A.dtype"
   ]
  },
  {
   "cell_type": "markdown",
   "id": "025c8a37-8f4c-4170-a740-6bee784ff50b",
   "metadata": {},
   "source": [
    "#### **행렬의 산술 연산**\n",
    "element-wise 연산이 이뤄짐."
   ]
  },
  {
   "cell_type": "code",
   "execution_count": 68,
   "id": "0ccfb1e5-3911-468e-91c9-b9359c737e48",
   "metadata": {},
   "outputs": [],
   "source": [
    "A = np.array([[1, 2], [3, 4]])\n",
    "B = np.array([[3, 0], [0,6]])"
   ]
  },
  {
   "cell_type": "code",
   "execution_count": 70,
   "id": "bcc1bcda-5e68-4570-9b1e-ac03075c887a",
   "metadata": {},
   "outputs": [
    {
     "data": {
      "text/plain": [
       "array([[ 4,  2],\n",
       "       [ 3, 10]])"
      ]
     },
     "execution_count": 70,
     "metadata": {},
     "output_type": "execute_result"
    }
   ],
   "source": [
    "A + B"
   ]
  },
  {
   "cell_type": "code",
   "execution_count": 73,
   "id": "3ff59c17-3544-4e06-9469-8a7b8b91d8d9",
   "metadata": {},
   "outputs": [
    {
     "data": {
      "text/plain": [
       "array([[ 3,  0],\n",
       "       [ 0, 24]])"
      ]
     },
     "execution_count": 73,
     "metadata": {},
     "output_type": "execute_result"
    }
   ],
   "source": [
    "A * B"
   ]
  },
  {
   "cell_type": "code",
   "execution_count": 75,
   "id": "d06a3344-f623-4533-aafe-bb64a151c3eb",
   "metadata": {},
   "outputs": [
    {
     "name": "stdout",
     "output_type": "stream",
     "text": [
      "[[1 2]\n",
      " [3 4]]\n"
     ]
    },
    {
     "data": {
      "text/plain": [
       "array([[10, 20],\n",
       "       [30, 40]])"
      ]
     },
     "execution_count": 75,
     "metadata": {},
     "output_type": "execute_result"
    }
   ],
   "source": [
    "# broadcast\n",
    "print(A)\n",
    "A * 10"
   ]
  },
  {
   "cell_type": "markdown",
   "id": "70bf4fbd-05e7-483b-bea6-f333b3c3f63f",
   "metadata": {},
   "source": [
    "### **1.5 broadcast(브로드캐스트)**\n",
    "- numpy에서는 shape이 다른 배열끼리도 계산 가능함.\n",
    "- element-wise 연산이 이루어짐."
   ]
  },
  {
   "cell_type": "code",
   "execution_count": 63,
   "id": "958b506a-c5e6-4613-9ba4-6ff015c7bbc8",
   "metadata": {},
   "outputs": [
    {
     "data": {
      "text/plain": [
       "array([[10, 40],\n",
       "       [30, 80]])"
      ]
     },
     "execution_count": 63,
     "metadata": {},
     "output_type": "execute_result"
    }
   ],
   "source": [
    "A = np.array([[1, 2], [3, 4]])\n",
    "B = np.array([10,20])\n",
    "A * B"
   ]
  },
  {
   "cell_type": "markdown",
   "id": "108ff28b-5ee2-4fea-8bcf-cebefe399e53",
   "metadata": {},
   "source": [
    "### **1.6 원소 접근**"
   ]
  },
  {
   "cell_type": "code",
   "execution_count": 83,
   "id": "92dd1674-5cfd-40ae-99e7-0944d69a70f4",
   "metadata": {},
   "outputs": [
    {
     "name": "stdout",
     "output_type": "stream",
     "text": [
      "[[51 55]\n",
      " [14 19]\n",
      " [ 0  4]]\n"
     ]
    }
   ],
   "source": [
    "X = np.array([[51, 55], [14, 19], [0, 4]])\n",
    "print(X)"
   ]
  },
  {
   "cell_type": "code",
   "execution_count": 85,
   "id": "29622f50-c155-45fd-a3af-d954524b6a97",
   "metadata": {},
   "outputs": [
    {
     "data": {
      "text/plain": [
       "array([51, 55])"
      ]
     },
     "execution_count": 85,
     "metadata": {},
     "output_type": "execute_result"
    }
   ],
   "source": [
    "X[0]"
   ]
  },
  {
   "cell_type": "code",
   "execution_count": 87,
   "id": "05e10668-538a-4a54-91c4-02deffe98923",
   "metadata": {},
   "outputs": [
    {
     "data": {
      "text/plain": [
       "55"
      ]
     },
     "execution_count": 87,
     "metadata": {},
     "output_type": "execute_result"
    }
   ],
   "source": [
    "X[0][1]"
   ]
  },
  {
   "cell_type": "code",
   "execution_count": 89,
   "id": "c14ebda2-f0ba-4662-90bd-d196ca8e8320",
   "metadata": {},
   "outputs": [
    {
     "data": {
      "text/plain": [
       "55"
      ]
     },
     "execution_count": 89,
     "metadata": {},
     "output_type": "execute_result"
    }
   ],
   "source": [
    "X[0,1]"
   ]
  },
  {
   "cell_type": "markdown",
   "id": "dbd2cc69-d65f-4027-b83d-11ce5a42c9f7",
   "metadata": {},
   "source": [
    "X[a,b]: 교집합 느낌임. a 관련 선택한 상황에서 b 관련 선택  \n",
    "X[a][b]: X[a]라는 array에서 b관련 선택"
   ]
  },
  {
   "cell_type": "code",
   "execution_count": 95,
   "id": "82e8e176-ca44-4798-9937-a940e95fc407",
   "metadata": {},
   "outputs": [
    {
     "name": "stdout",
     "output_type": "stream",
     "text": [
      "[55 19  4]\n",
      "[14 19]\n"
     ]
    }
   ],
   "source": [
    "print(X[:,1])\n",
    "print(X[:][1])"
   ]
  },
  {
   "cell_type": "code",
   "execution_count": 106,
   "id": "70b258c1-bf51-4313-81cc-f7df8c72f144",
   "metadata": {},
   "outputs": [
    {
     "name": "stdout",
     "output_type": "stream",
     "text": [
      "[51 55 14 19  0  4]\n"
     ]
    }
   ],
   "source": [
    "# X를 1차원 배열로 변환(평탄화)\n",
    "X = X.flatten()\n",
    "print(X)"
   ]
  },
  {
   "cell_type": "markdown",
   "id": "9b20ba2e-6569-499f-b65c-dcde11053b02",
   "metadata": {},
   "source": [
    "#### **특정 조건을 만족하는 원소만 얻기**"
   ]
  },
  {
   "cell_type": "code",
   "execution_count": 108,
   "id": "35ae5f18-55d7-4064-8b43-de55043a5a24",
   "metadata": {},
   "outputs": [
    {
     "data": {
      "text/plain": [
       "array([51, 14,  0])"
      ]
     },
     "execution_count": 108,
     "metadata": {},
     "output_type": "execute_result"
    }
   ],
   "source": [
    "# index가 0,2,4인 원소 얻기\n",
    "X[np.array([0, 2, 4])]"
   ]
  },
  {
   "cell_type": "code",
   "execution_count": 113,
   "id": "443bd59a-cc2d-4ea6-acd8-2432a1c779ca",
   "metadata": {},
   "outputs": [
    {
     "data": {
      "text/plain": [
       "array([ True,  True, False,  True, False, False])"
      ]
     },
     "execution_count": 113,
     "metadata": {},
     "output_type": "execute_result"
    }
   ],
   "source": [
    "X > 15"
   ]
  },
  {
   "cell_type": "code",
   "execution_count": 115,
   "id": "276ee820-ec74-47d0-84fb-391796d49547",
   "metadata": {},
   "outputs": [
    {
     "data": {
      "text/plain": [
       "array([51, 55, 19])"
      ]
     },
     "execution_count": 115,
     "metadata": {},
     "output_type": "execute_result"
    }
   ],
   "source": [
    "X[X>15]"
   ]
  }
 ],
 "metadata": {
  "kernelspec": {
   "display_name": "Python 3 (ipykernel)",
   "language": "python",
   "name": "python3"
  },
  "language_info": {
   "codemirror_mode": {
    "name": "ipython",
    "version": 3
   },
   "file_extension": ".py",
   "mimetype": "text/x-python",
   "name": "python",
   "nbconvert_exporter": "python",
   "pygments_lexer": "ipython3",
   "version": "3.11.7"
  }
 },
 "nbformat": 4,
 "nbformat_minor": 5
}
