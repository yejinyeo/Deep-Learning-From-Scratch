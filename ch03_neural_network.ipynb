{
 "cells": [
  {
   "cell_type": "markdown",
   "id": "94597cde-ac2b-45ed-b262-1cb1b5529bf7",
   "metadata": {},
   "source": [
    "# **1. perceptron to neural network**"
   ]
  },
  {
   "cell_type": "markdown",
   "id": "b706b9e0-a75a-478a-a6f8-4cef4690bf37",
   "metadata": {},
   "source": [
    "#### **퍼셉트론(perceptron)**\n",
    "- 장점: 퍼셉트론으로 복잡한 함수도 표현할 수 있다.\n",
    "- 단점: 가중치 설정 작업을 사람이 수동으로 해야 한다.  \n",
    "  ex) 사람이 AND, OR 게이트의 진리표를 보며 사람이 적절한 가중치 값을 설정함.\n",
    "#### **신경망(neural network)**\n",
    "- 퍼셉트론의 단점 해결  \n",
    "  how? **가중치 매개변수의 적절한 값을 데이터로부터 자동으로 학습함.**\n",
    "\n",
    "*위의 퍼셉트론, 신경망 설명은 책 내용 흐름 상 설명이고, 실제 개념과는 차이가 있으니 그냥 흘려 읽을 것!*"
   ]
  },
  {
   "cell_type": "markdown",
   "id": "f6bbdd3a-40ff-4d14-96fe-59f47ef2ed06",
   "metadata": {},
   "source": [
    "#### **Q. 퍼셉트론과 신경망의 차이는 가중치 매개변수 설정을 사람이 하느냐, 학습하느냐인가?**\n",
    "*No. 이 책에서 설명한 퍼셉트론 기준으로 단점을 기재한 듯함. 즉, 퍼셉트론과 신경망 모두 가중치 매개변수를 학습 알고리즘을 통해 자동으로 학습함. (퍼셉트론과 신경망의 차이는 아래 질의응답(Q) 참고하기)*  \n",
    "- 퍼셉트론(단층 퍼셉트론)의 가중치 설정 작업: 사람이 수동으로 하는 것 x, 학습 알고리즘을 통해 자동으로 조정됨"
   ]
  },
  {
   "cell_type": "markdown",
   "id": "9b6cc054-02cc-4075-bb74-2e1f7f13b022",
   "metadata": {},
   "source": [
    "#### **Q. 퍼셉트론과 신경망의 차이가 무엇인가?**\n",
    "- *일반적으로 '퍼셉트론'이라고 하면 단순(단층) 퍼셉트론을 의미한다고 생각하자*\n",
    "- **퍼셉트론**\n",
    "    - 신경망의 기본 단위\n",
    "    - 여러 개의 입력 값에 가중치를 곱해 합한 후, 이를 step function(활성화 함수)에 적용하여 최종 출력 값으로 0 또는 1을 생성함\n",
    "    - 주로 **이진 분류 문제**를 해결하기 위해 사용됨, 선형 분류기임\n",
    "    - 입력층과 출력층으로만 구성됨(**단층 퍼셉트론**), 은닉층이 없는 신경망 구조\n",
    "    - activation function: 주로 **step function(계단 함수)** 사용    (*계단 함수도 비선형 함수다!*)\n",
    "- **신경망**\n",
    "    - 여러 개의 퍼셉트론이 층(layer)을 이루어 연결된 구조 -> 입력층, 은닉층, 출력층\n",
    "    - **비선형 문제** 해결\n",
    "    - 다층 구조: 여러 개의 은닉층을 가짐 -> **다층 퍼셉트론(multi-layer perceptron, MLP)**\n",
    "    - activation function: **sigmoid, ReLU, tanh(탄젠트 하이퍼볼릭) 등의 비선형 활성화 함수** 사용 -> 복잡한 패턴 학습 가능"
   ]
  },
  {
   "cell_type": "markdown",
   "id": "c918954e-ef00-498c-9869-2f179294bd4d",
   "metadata": {},
   "source": [
    "### **1.1 신경망의 예**\n",
    "- 층 번호 기준: 0부터 시작\n",
    "    - 입력층: 0층\n",
    "    - 은닉층: 1층\n",
    "    - 출력층: 2층  \n",
    "    [그림1-1]은 2층 신경망(3층 신경망)\n",
    "- 가중치를 갖는 층의 개수 = 입력층, 은닉층, 출력층의 합계 - 1\n",
    "- 뉴런이 연결되는 방식: 퍼셉트론과 동일함.  \n",
    "\n",
    "![신경망의 예](data:image/png;base64,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)  \n",
    "[그림1-1] 신경망의 예"
   ]
  },
  {
   "cell_type": "markdown",
   "id": "9fb2e02d-7566-4ca4-9f8c-e15a86a9e57b",
   "metadata": {},
   "source": [
    "### **1.2 퍼셉트론 복습**\n",
    "- **편향**: 뉴런이 얼마나 쉽게 활성화되느냐를 제어\n",
    "- **가중치**: 각 신호의 영향력(중요도) 제어\n",
    "#### **편향을 명시한 퍼셉트론**  \n",
    "![편향을 명시한 퍼셉트론](https://velog.velcdn.com/images%2Flilpark%2Fpost%2F8e123fb6-528d-4178-8f93-5a8e0874c9f2%2Fimage.png)  \n",
    "[그림1-2] 편향을 명시한 퍼셉트론  \n",
    "- 입력이 1, 가중치가 b인 뉴런이 추가됨.\n",
    "- [그림1-2]의 퍼셉트론:\n",
    "    1. 3개의 입력 신호($x_1,x_2,1$)가 뉴런에 입력됨\n",
    "    2. 각 신호에 가중치를 곱한 후, 다음 뉴런에 전달\n",
    "    3. 다음 뉴런에서 이들 신호의 값을 더한 후 그 합이 0을 넘으면 1, 그렇지 않으면 0 출력  "
   ]
  },
  {
   "cell_type": "markdown",
   "id": "53f7f7a5-0bb0-4882-9ea6-7bf15623ea41",
   "metadata": {},
   "source": [
    "### **1.3 활성화 함수 도입**\n",
    "#### **활성화 함수(activation function, $h(x)$)**\n",
    "**입력 신호의 총합을 출력 신호로 변환하는 함수**  \n",
    "**입력 값을 특정 방식으로 변환하여 뉴런의 출력을 결정하는 역할**\n",
    "- 입력 신호의 총합이 활성화를 일으키는지를 정하는 역할\n",
    "- $y = h(a)$,  \n",
    "  $a = b + w_1x_1 + w_2x_2$    ($a$: 가중치 신호를 조합한 결과, 가중치가 달린 입력신호와 편향의 총합)\n",
    "    \n",
    "![활성화 함수의 처리 과정](https://velog.velcdn.com/images%2Flilpark%2Fpost%2F9df6fd57-ce9b-45fe-b504-2bfebe29548b%2Fimage.png)  \n",
    "[그림1-3] 활성화 함수의 처리 과정  \n",
    "- [그림1-3] 과정:\n",
    "  가중치 신호를 조합한 결과 $a$ 노드가 활성화 함수$h()$를 통과하여 $y$ 노드로 변환되는 과정"
   ]
  },
  {
   "cell_type": "markdown",
   "id": "b94ab3ba-f155-40a8-82ee-04048475683c",
   "metadata": {},
   "source": [
    "### **헷갈릴만한 용어 정리(퍼셉트론의 분류-단순,다층)**\n",
    "- **단순 퍼셉트론(단층 퍼셉트론)**: 단층 네트워크에서 계단 함수(임계값을 경계로 출력이 바뀌는 함수)를 활성화 함수로 사용한 모델  \n",
    "    - **단 두 개의 층(입력층, 출력층)만으로 이루어진 퍼셉트론**  \n",
    "- **다층 퍼셉트론(multi-layer perceptron, MLP)**: **신경망**(여러 층으로 구성되고 시그모이드 함수 등의 매끈한 활성화 함수를 사용하는 네트워크)  \n",
    "    - **총 3개 이상의 층(입력층, 출력층, 여러 개의 은닉층)으로 이루어진 퍼셉트론**  \n",
    "    - 은닉층(hidden layer) 존재  \n",
    "    - 은닉층이 2개 이상인 MLP = **심층 신경망(deep neural network, DNN)**"
   ]
  },
  {
   "cell_type": "markdown",
   "id": "5f04a2a5-38a4-4d4f-afc8-a08e9329f8f7",
   "metadata": {},
   "source": [
    "#### **Q. 다층 퍼셉트론(MLP)와 신경망(Neural Network)는 같은 개념인가?**\n",
    "**MLP는 신경망(feedforward neural network)의 한 형태이다!**  \n",
    "- **다층 퍼셉트론(MLP)**\n",
    "    - feedforward neural network(피드포워드 신경망)의 한 유형 -> 입력 데이터가 한 방향으로만 흐름\n",
    "    - 역전파(backpropagation) 알고리즘을 사용해 학습함\n",
    "- **신경망(neural network, NN)**\n",
    "    - MLP를 포함한 더 일반적인 개념, 다양한 유형이 존재\n",
    "        - **피드포워드 신경망(feedforward NN)**: 데이터가 한 방향으로 흐르는 신경망(MLP는 이 범주에 속함)\n",
    "        - **컨볼루션 신경망(convolutional NN, CNN)**: 이미지와 같은 데이터에서 공간적 패턴을 학습하는 신경망\n",
    "        - **순환 신경망(recurrent NN, RNN)**: 시계열 데이터나 순차적 데이터를 다루기 위해 시간적 정보를 활용하는 신경망\n",
    "        - **생성적 적대 신경망(Generative Adversarial Network, GAN)**: 데이터 생성을 위한 신경망"
   ]
  },
  {
   "cell_type": "markdown",
   "id": "cf406dd8-942c-4a00-82c3-01e723b18dff",
   "metadata": {},
   "source": [
    "# **2. activation function**"
   ]
  },
  {
   "cell_type": "markdown",
   "id": "1bab4cae-09e4-4b11-bb30-ee3592d8b1e8",
   "metadata": {},
   "source": [
    "#### **퍼셉트론 vs 신경망 주된 차이: 활성화 함수**\n",
    "> 퍼셉트론에서의 활성화 함수: 계단 함수(step function)  \n",
    "> 신경망에서의 활성화 함수: 계단 함수 이외의 함수 ex) sigmoid, ReLU, tanh function"
   ]
  },
  {
   "cell_type": "markdown",
   "id": "b1169f91-c42a-4db6-89c8-85b2e160850e",
   "metadata": {},
   "source": [
    "### **2.1 계단 함수(step function)**\n",
    "**입력이 0을 넘으면 1, 그렇지 않으면(0 이하) 0을 출력하는 함수**"
   ]
  },
  {
   "cell_type": "markdown",
   "id": "97be302e-cb7f-42bb-aced-3153829e6034",
   "metadata": {},
   "source": [
    "#### **step function 구현**"
   ]
  },
  {
   "cell_type": "code",
   "execution_count": 5,
   "id": "a09f4b09-8080-4469-bb72-8e2d5b280463",
   "metadata": {},
   "outputs": [],
   "source": [
    "# step function 구현\n",
    "def step_function(x):\n",
    "    if x > 0:\n",
    "        return 1\n",
    "    else:\n",
    "        return 0"
   ]
  },
  {
   "cell_type": "markdown",
   "id": "0e87e430-ee86-4e4b-b598-46b58d6e8ea2",
   "metadata": {},
   "source": [
    "인수 x: 실수(부동소수점)만 가능, 넘파이 배열은 불가능  \n",
    "-> **넘파이 배열도 지원하도록 step_function을 수정해보자.**\n",
    "- **astype(*자료형*)**: numpy 배열의 자료형 변환\n",
    "- *np.int라고 하면 오류 뜸 -> np.int32로 변경하여 해결함*"
   ]
  },
  {
   "cell_type": "code",
   "execution_count": 8,
   "id": "984cbf0a-0edc-42d8-a8fc-12e13567608d",
   "metadata": {},
   "outputs": [],
   "source": [
    "def step_function(x):\n",
    "    y = x > 0\n",
    "    return y.astype(np.int32)"
   ]
  },
  {
   "cell_type": "code",
   "execution_count": 10,
   "id": "31e75139-5003-43f0-9a5a-acaaf3da03e6",
   "metadata": {},
   "outputs": [
    {
     "name": "stdout",
     "output_type": "stream",
     "text": [
      "[-1.  1.  2.]\n",
      "[False  True  True]\n",
      "[0 1 1]\n"
     ]
    }
   ],
   "source": [
    "# 원리\n",
    "import numpy as np\n",
    "x = np.array([-1.0, 1.0, 2.0])\n",
    "print(x)\n",
    "y = x > 0\n",
    "print(y)\n",
    "y = y.astype(np.int32)\n",
    "print(y)"
   ]
  },
  {
   "cell_type": "markdown",
   "id": "392a5830-0f14-4ecc-86d5-0a5d9a8f1537",
   "metadata": {},
   "source": [
    "#### **step function graph**"
   ]
  },
  {
   "cell_type": "markdown",
   "id": "af417be8-e706-457b-88f1-b5070a6a6c8f",
   "metadata": {},
   "source": [
    "- **np.arange(start, stop, step)**: [start, stop) 구간에서 step의 크기만큼 일정하게 떨어져 있는 숫자들을 array 형태로 반환\n",
    "- **plt.ylim(ymin, ymax)**: y축이 표시되는 범위 지정하거나 반환"
   ]
  },
  {
   "cell_type": "code",
   "execution_count": 14,
   "id": "986ac9ed-8b09-4af6-9775-0d86b70b9475",
   "metadata": {},
   "outputs": [
    {
     "data": {
      "image/png": "[encoded data removed]",
      "text/plain": [
       "<Figure size 640x480 with 1 Axes>"
      ]
     },
     "metadata": {},
     "output_type": "display_data"
    }
   ],
   "source": [
    "import numpy as np\n",
    "import matplotlib.pyplot as plt\n",
    "\n",
    "def step_function(x):\n",
    "    return np.array(x > 0, dtype=np.int32)\n",
    "\n",
    "x = np.arange(-5.0, 5.0, 0.1)\n",
    "y = step_function(x)\n",
    "plt.plot(x, y)\n",
    "plt.ylim(-0.1, 1.1)    # y축 범위 지정\n",
    "plt.show()"
   ]
  },
  {
   "cell_type": "markdown",
   "id": "ce5f4867-c8bc-46eb-a255-f5efcafac84d",
   "metadata": {},
   "source": [
    "**step function(계단 함수)**: 0을 경계로 출력이 0에서 1(또는 1에서 0)로 바뀜"
   ]
  },
  {
   "cell_type": "markdown",
   "id": "8e60a0b8-9903-4b6a-a9d4-ad5703fb07f3",
   "metadata": {},
   "source": [
    "### **2.2 시그모이드 함수(sigmoid function)**\n",
    "$h(x) =$ $1 \\over 1 + exp(-x)$  \n",
    "- **in 신경망**\n",
    "  활성화 함수로 시그모이드 함수 이용하여 신호 변환, 그 변환된 신호를 다음 뉴런에게 전달"
   ]
  },
  {
   "cell_type": "markdown",
   "id": "3e478f7a-e2a8-46c7-abd8-9a209bcb4413",
   "metadata": {},
   "source": [
    "#### **sigmoid function 구현**"
   ]
  },
  {
   "cell_type": "markdown",
   "id": "6bedf84c-bdd4-4e46-a86b-63156f14a5d9",
   "metadata": {},
   "source": [
    "- sigmoid(x) 함수는 넘파이 배열을 인수로 해도 가능 -> why? broadcast\n",
    "- **broadcast**: 넘파이 배열과 스칼라값의 연산을 넘파이 배열의 원소 각각과 스칼라값의 연산으로 바꿔 수행하는 것"
   ]
  },
  {
   "cell_type": "code",
   "execution_count": 17,
   "id": "055b5b1f-c4fd-4bb8-bc71-efdceb47cbae",
   "metadata": {},
   "outputs": [],
   "source": [
    "def sigmoid(x):\n",
    "    return 1 / (1 + np.exp(-x))"
   ]
  },
  {
   "cell_type": "code",
   "execution_count": 19,
   "id": "8d5d0159-da1d-4d59-984f-7021b20c6062",
   "metadata": {},
   "outputs": [
    {
     "data": {
      "text/plain": [
       "array([0.26894142, 0.73105858, 0.88079708])"
      ]
     },
     "execution_count": 19,
     "metadata": {},
     "output_type": "execute_result"
    }
   ],
   "source": [
    "x = np.array([-1.0, 1.0, 2.0])\n",
    "sigmoid(x)"
   ]
  },
  {
   "cell_type": "markdown",
   "id": "61b7f087-0c05-44f8-a7d3-be7e79ca4c0a",
   "metadata": {},
   "source": [
    "#### **sigmoid function graph**"
   ]
  },
  {
   "cell_type": "code",
   "execution_count": 22,
   "id": "eefdf612-5ee6-47c9-b73e-f436f37b758f",
   "metadata": {},
   "outputs": [
    {
     "data": {
      "image/png": "[encoded data removed]",
      "text/plain": [
       "<Figure size 640x480 with 1 Axes>"
      ]
     },
     "metadata": {},
     "output_type": "display_data"
    }
   ],
   "source": [
    "x = np.arange(-5.0, 5.0, 0.1)\n",
    "y = sigmoid(x)\n",
    "plt.plot(x, y)\n",
    "plt.ylim(-0.1, 1.1)\n",
    "plt.show()"
   ]
  },
  {
   "cell_type": "markdown",
   "id": "25a09320-23e1-431e-9276-c89a625cfda7",
   "metadata": {},
   "source": [
    "**sigmoid function**: S자 모양이다!"
   ]
  },
  {
   "cell_type": "markdown",
   "id": "98dae70c-0c07-4fd2-8ee8-414e97a19737",
   "metadata": {},
   "source": [
    "### **2.3 sigmoid function vs step function 비교**"
   ]
  },
  {
   "cell_type": "markdown",
   "id": "d3e2f3f9-5af2-4a52-bd56-a084455b1702",
   "metadata": {},
   "source": [
    "#### **공통점**\n",
    "**두 함수 모두 비선형적이며, 신경망에서 활성화 함수로 사용되어 이진 분류 문제에 적용될 수 있다.**\n",
    "- 같은 모양\n",
    "- 입력이 작을 때의 출력은 0에 가깝고(혹은 0이고), 입력이 커지면 출력이 1에 가까워지는(혹은 1이 되는) 구조\n",
    "- 입력이 중요하면 큰 값 출력, 입력이 중요하지 않으면 작은 값 출력\n",
    "- 입력이 아무리 작거나 커도 출력은 0에서 1 사이임\n",
    "\n",
    "**1. 비선형성**  \n",
    "- 두 함수 모두 비선형 함수임\n",
    "\n",
    "**2. 이진 출력**  \n",
    "- 이진 분류 문제에서 사용\n",
    "- 출력값\n",
    "    - step function: 0 또는 1\n",
    "    - sigmoid function: 0에서 1 사이의 연속적인 값 -> 특정 임계값(ex 0.5) 기준으로 이진 결정 내릴 수 있음"
   ]
  },
  {
   "cell_type": "markdown",
   "id": "23884a0b-4d8b-4582-8b00-8b410cf4223a",
   "metadata": {},
   "source": [
    "#### **차이점**  \n",
    "**step function: 비연속적, 미분 불가능, 출력이 0 또는 1로 제한**  \n",
    "**sigmoid function: 연속적, 미분 가능, 출력이 0에서 1 사이의 연속적인 값+학습 과정에서 더 안정적인 출력 제공**  \n",
    "\n",
    "**1. 출력 범위**\n",
    "- step function: 0 또는 1\n",
    "- sigmoid function: 0에서 1 사이의 연속적인 값\n",
    "\n",
    "**2. 연속성**\n",
    "- step function: 비연속적 *(why? x=0일 때 비연속적임, 위 그래프에서는 세로로 선이 있지만 사실상 없는 것임)*\n",
    "- sigmoid function: 연속적\n",
    "\n",
    "**3. 미분 가능성**\n",
    "- step function: 미분 불가능\n",
    "- sigmoid function: 미분 가능\n",
    "\n",
    "**4. 학습의 안정성**\n",
    "- step function: 출력이 급격히 변함 -> 학습 과정에서 작은 변화에도 민감하게 반응할 수 있음\n",
    "- sigmoid function: 출력이 부드럽게 변함 -> 학습 과정에서 가중치 변화에 따른 출력 변화가 더 안정적임"
   ]
  },
  {
   "cell_type": "markdown",
   "id": "1f77eb75-8457-4bf5-b3eb-4d0b531b1b3f",
   "metadata": {},
   "source": [
    "### **2.4 비선형 함수**\n",
    "**선형이 아닌 함수, 직선 1개로는 그릴 수 없는 함수**\n",
    "- 함수: 어떤 값을 입력하면 그에 따른 값을 돌려주는 **변환기**\n",
    "- **선형 함수**: $f(x) = ax + b$ ($a,b$는 상수), 출력이 입력의 상수배만큼 변하는 함수, 1개의 직선"
   ]
  },
  {
   "cell_type": "markdown",
   "id": "4c9e858b-4019-42b7-8052-e7b11ac89a45",
   "metadata": {},
   "source": [
    "#### **신경망에서의 활성화 함수는 비선형 함수를 사용해야 한다!**  \n",
    "= 신경망에서는 선형 함수를 사용하면 안 된다.\n",
    "#### **why?**  \n",
    "**선형 함수를 활성화 함수로 사용하면 신경망의 층을 깊게 하는 의미가 없어짐**  \n",
    "- 선형 함수의 문제: 층을 아무리 깊게 해도 '은닉층이 없는 네트워크(*(단층) 퍼셉트론*)'로 대체 가능함\n",
    "- ex) 활성화 함수: 선형 함수 $h(x) = cx$\n",
    "- 3층 네트워크: $y(x) = h(h(h(x))) = c*c*c*x$ -> $y(x) = ax, (a=c^3)$와 똑같은 식임 -> 은닉층 없는 네트워크로 표현할 수 있음"
   ]
  },
  {
   "cell_type": "markdown",
   "id": "e3304090-c86f-462e-b6f9-5828a3fa5270",
   "metadata": {},
   "source": [
    "> 신경망에서 층을 쌓는 의미를 살리고 싶다면 활성화 함수로 반드시 **비선형 함수**를 사용해라"
   ]
  },
  {
   "cell_type": "markdown",
   "id": "cdb4f5f0-e915-4310-be2f-30dea8df5db2",
   "metadata": {},
   "source": [
    "### **2.5 ReLU(Rectified Linear Unit, 렐루) 함수**\n",
    "**입력이 0을 넘으면 그 입력을 그대로 출력, 입력이 0 이하면 0을 출력하는 함수**  \n",
    "$h(x) = \n",
    "\\begin{cases}\n",
    "x,\\;(x > 0)\\\\\n",
    "0,\\;(x \\leq 0)\n",
    "\\end{cases}$\n",
    "\n",
    "- **in 신경망 분야**  \n",
    "  sigmoid function을 오래전부터 사용해옴 but 최근에는 ReLU function을 주로 사용함"
   ]
  },
  {
   "cell_type": "markdown",
   "id": "13afda18-df8f-4553-81d3-6e3b5d7ee3dc",
   "metadata": {},
   "source": [
    "#### **Q. sigmoid보다 ReLU 함수가 최근에 더 많이 사용되는 이유는 무엇인가?**  \n",
    "**1. 기울기 소실 문제 해결**\n",
    "- sigmoid: 출력값이 0과 1 사이로 제한되어 있기 때문에, 입력값이 매우 크거나 작을 경우 함수의 기울기가 매우 작아져 역전파 과정에서 기울기가 거의 전파되지 않는 문제가 발생함 -> 깊은 신경망의 학습 어렵게 만듦\n",
    "- ReLU: $h(x)=max(0,x)$로 정의되며, 양수 입력에 대해 기울기가 1이므로 기울기 소실 문제 발생 x -> 깊은 신경망에서 효과적으로 학습할 수 있음\n",
    "\n",
    "**2. 연산 효율성**\n",
    "- sigmoid: $e^{-x}$와 같은 지수 함수를 계산해야 함 -> 상대적으로 계산이 복잡함\n",
    "- ReLU: 단순한 최댓값 연산($max(0,x)$) -> 계산이 매우 빠르고 효율적임\n",
    "\n",
    "**3. 희소성 유도(sparsity)**  \n",
    "희소성 유도의 효과: 모델의 일반화 능력 향상, 계산 자원 효율적 사용 가능\n",
    "- sigmoid: 모든 입력에 대해 항상 출력이 0과 1사이의 값 가짐 -> 뉴런이 항상 활성화 상태임 => 희소성 제공 x\n",
    "- ReLU: 입력 값이 0 이하일 때 출력이 0임 -> 뉴런의 활성화 제한 => 희소성 유도 o\n",
    "\n",
    "**4. 학습 속도**  \n",
    "ReLU > sigmoid"
   ]
  },
  {
   "cell_type": "markdown",
   "id": "1732c371-8a03-4f31-91d8-e3e9c3ae1696",
   "metadata": {},
   "source": [
    "- **np.maximum(a, b)**: 두 입력(a, b) 중 큰 값을 선택 해 반환하는 함수  \n",
    "  *a, b가 배열인 경우에는 각 원소 중 더 큰 원소를 선택하여 새로운 배열 반환함(배열의 크기 같아야 함)*"
   ]
  },
  {
   "cell_type": "code",
   "execution_count": 24,
   "id": "7ab1aee2-0c70-4035-a783-add805d23c97",
   "metadata": {},
   "outputs": [],
   "source": [
    "def relu(x):\n",
    "    return np.maximum(0, x)"
   ]
  },
  {
   "cell_type": "markdown",
   "id": "f13be488-63c2-4a58-8a3c-80f1f814c632",
   "metadata": {},
   "source": [
    "# **3. 다차원 배열의 계산**"
   ]
  },
  {
   "cell_type": "markdown",
   "id": "ebee18eb-384a-4668-85d9-bc9e7fdff81a",
   "metadata": {},
   "source": [
    "Q. 왜 알아야 해?  \n",
    "A. 신경망을 효율적으로 구현하기 위함\n",
    "\n",
    "- 신경망에서의 계산, 신경망 각 층의 계산: 행렬 계산(행렬의 내적, 행렬 곱)으로 처리할 수 있다!"
   ]
  },
  {
   "cell_type": "markdown",
   "id": "7ef79710-927e-4072-8e45-54cb9c8b846f",
   "metadata": {},
   "source": [
    "### **3.1 다차원 배열**"
   ]
  },
  {
   "cell_type": "markdown",
   "id": "1d55801f-e9e4-471b-8c58-64120ccafc23",
   "metadata": {},
   "source": [
    "#### **1차원 배열**"
   ]
  },
  {
   "cell_type": "code",
   "execution_count": 202,
   "id": "d1977468-73da-42ef-b6a4-5eabad0c9e6e",
   "metadata": {},
   "outputs": [
    {
     "name": "stdout",
     "output_type": "stream",
     "text": [
      "[1 2 3 4]\n"
     ]
    }
   ],
   "source": [
    "import numpy as np\n",
    "A = np.array([1, 2, 3, 4])\n",
    "print(A)"
   ]
  },
  {
   "cell_type": "markdown",
   "id": "205afa04-92f3-46b6-9862-218ceb2e350b",
   "metadata": {},
   "source": [
    "**np.ndim(*배열*)**: 배열의 차원 수"
   ]
  },
  {
   "cell_type": "code",
   "execution_count": 206,
   "id": "1242681f-221a-4fa2-9c78-8cc5ee53aa55",
   "metadata": {},
   "outputs": [
    {
     "data": {
      "text/plain": [
       "1"
      ]
     },
     "execution_count": 206,
     "metadata": {},
     "output_type": "execute_result"
    }
   ],
   "source": [
    "# 배열의 차원 수\n",
    "np.ndim(A)"
   ]
  },
  {
   "cell_type": "markdown",
   "id": "67cd7a9a-49bd-4eda-900a-8c7f03fdf0c4",
   "metadata": {},
   "source": [
    "***배열*.shape**: 배열의 shape\n",
    "- 인스턴스 변수임\n",
    "- 튜플을 반환함\n",
    "- *튜플의 길이 = 배열의 차원 수*\n",
    "- *튜플의 각 원소 = 해당 차원의 원소 개수*"
   ]
  },
  {
   "cell_type": "code",
   "execution_count": 208,
   "id": "245dfde1-6c10-4cfd-812f-fbf13d9d73e1",
   "metadata": {},
   "outputs": [
    {
     "data": {
      "text/plain": [
       "(4,)"
      ]
     },
     "execution_count": 208,
     "metadata": {},
     "output_type": "execute_result"
    }
   ],
   "source": [
    "# 배열의 shape\n",
    "A.shape"
   ]
  },
  {
   "cell_type": "code",
   "execution_count": 216,
   "id": "23d3e9b4-5fe6-48de-bbe6-11f28a64b55d",
   "metadata": {},
   "outputs": [
    {
     "data": {
      "text/plain": [
       "4"
      ]
     },
     "execution_count": 216,
     "metadata": {},
     "output_type": "execute_result"
    }
   ],
   "source": [
    "A.shape[0]"
   ]
  },
  {
   "cell_type": "code",
   "execution_count": 214,
   "id": "4ce4a79c-0c3d-4ec7-83d7-ab8a58c03c1e",
   "metadata": {},
   "outputs": [
    {
     "data": {
      "text/plain": [
       "1"
      ]
     },
     "execution_count": 214,
     "metadata": {},
     "output_type": "execute_result"
    }
   ],
   "source": [
    "len(A.shape)"
   ]
  },
  {
   "cell_type": "markdown",
   "id": "ef3697e6-0165-453e-8ca3-3ef10281df6b",
   "metadata": {},
   "source": [
    "#### **2차원 배열(행렬, matrix)**"
   ]
  },
  {
   "cell_type": "code",
   "execution_count": 219,
   "id": "d8dd17f5-af11-4e83-beb0-260681a947f1",
   "metadata": {},
   "outputs": [
    {
     "name": "stdout",
     "output_type": "stream",
     "text": [
      "[[1 2]\n",
      " [3 4]\n",
      " [5 6]]\n"
     ]
    }
   ],
   "source": [
    "B = np.array([[1, 2], [3, 4], [5, 6]])\n",
    "print(B)"
   ]
  },
  {
   "cell_type": "code",
   "execution_count": 221,
   "id": "d29abb64-eb5b-49bc-8be2-fc8f3e48e1ea",
   "metadata": {},
   "outputs": [
    {
     "data": {
      "text/plain": [
       "2"
      ]
     },
     "execution_count": 221,
     "metadata": {},
     "output_type": "execute_result"
    }
   ],
   "source": [
    "np.ndim(B)"
   ]
  },
  {
   "cell_type": "code",
   "execution_count": 223,
   "id": "e869bc1f-fbf8-4e7e-8dad-de849cbf8d44",
   "metadata": {},
   "outputs": [
    {
     "data": {
      "text/plain": [
       "(3, 2)"
      ]
     },
     "execution_count": 223,
     "metadata": {},
     "output_type": "execute_result"
    }
   ],
   "source": [
    "B.shape"
   ]
  },
  {
   "cell_type": "markdown",
   "id": "e4041f82-8ba7-4555-b7e7-e27ead11fbfd",
   "metadata": {},
   "source": [
    "- B: 3x2 배열\n",
    "- 첫번째 차원: 원소 3개, 다음 차원: 원소 2개 있다는 의미"
   ]
  },
  {
   "cell_type": "markdown",
   "id": "0ca0a02f-eead-4d2b-a006-784c728cfe04",
   "metadata": {},
   "source": [
    "### **3.2 행렬의 내적(행렬 곱)**\n",
    "#### <span style=\"background-color:#fff5b1\">[**np.dot()**](https://jimmy-ai.tistory.com/75)</span>\n",
    "*참고 링크 꼭 같이 보기*  \n",
    "*매우 중요함!! -> why? 신경망에서 가중치 행렬과 입력 벡터의 곱셈을 통해 각 층의 출력 계산할 때 자주 사용하기 때문!*\n",
    "- **두 배열의 내적(dot product)을 계산하는 함수**\n",
    "- 배열의 차원에 따라 자동으로 적절한 곱셈 방식(**벡터 내적 & 행렬 곱 함수**)을 적용함\n",
    "- np.dot(A, B)와 np.dot(B, A) 값은 일반적으로 다름 <-> +, * 연산\n",
    "\n",
    "**두 배열(input은 2개)의 내적 계산**  \n",
    "\n",
    "**1. 1차원 배열(벡터) 간의 내적**\n",
    "- 두 벡터의 내적(dot product) 계산\n",
    "- ex) np.dot([a,b],[c,d]) = ac + bd\n",
    "\n",
    "**2. 2차원 배열(행렬) 간의 곱**\n",
    "- 행렬 곱(matrix multiplication) 계산\n",
    "- np.dot(A,B) = 행렬 A와 B의 곱\n",
    "\n",
    "**3. 1차원 배열(벡터)와 2차원 배열(행렬) 간의 곱**\n",
    "\n",
    "**4. N차원 배열 간의 곱**\n",
    "- np.dot(A, B)에서 A의 마지막 축(행)과 B의 두번째 마지막 축(열)을 따라 곱을 수행"
   ]
  },
  {
   "cell_type": "markdown",
   "id": "f7ef683c-1331-4793-878d-0158f5773f2c",
   "metadata": {},
   "source": [
    "**1차원 배열(벡터) 간의 내적**"
   ]
  },
  {
   "cell_type": "code",
   "execution_count": 272,
   "id": "672de745-ba3c-44fc-b7f5-ce12be7e1bf2",
   "metadata": {},
   "outputs": [
    {
     "data": {
      "text/plain": [
       "32"
      ]
     },
     "execution_count": 272,
     "metadata": {},
     "output_type": "execute_result"
    }
   ],
   "source": [
    "A = np.array([1,2,3])\n",
    "B = np.array([4,5,6])\n",
    "np.dot(A, B)"
   ]
  },
  {
   "cell_type": "markdown",
   "id": "95a783cd-450c-434b-b909-b01bfbdd71e9",
   "metadata": {},
   "source": [
    "**2차원 배열(행렬) 간의 곱**"
   ]
  },
  {
   "cell_type": "code",
   "execution_count": 235,
   "id": "3626722f-17e7-4ef6-b328-05821898ff8a",
   "metadata": {},
   "outputs": [
    {
     "data": {
      "text/plain": [
       "(2, 3)"
      ]
     },
     "execution_count": 235,
     "metadata": {},
     "output_type": "execute_result"
    }
   ],
   "source": [
    "A = np.array([[1,2,3], [4,5,6]])\n",
    "A.shape"
   ]
  },
  {
   "cell_type": "code",
   "execution_count": 239,
   "id": "c7f610cf-09dc-4369-856b-a5b9005154dc",
   "metadata": {},
   "outputs": [
    {
     "data": {
      "text/plain": [
       "(3, 2)"
      ]
     },
     "execution_count": 239,
     "metadata": {},
     "output_type": "execute_result"
    }
   ],
   "source": [
    "B = np.array([[1,2], [3,4], [5,6]])\n",
    "B.shape"
   ]
  },
  {
   "cell_type": "code",
   "execution_count": 241,
   "id": "5e00b90e-7590-470a-9539-9b23c07e9a5d",
   "metadata": {},
   "outputs": [
    {
     "data": {
      "text/plain": [
       "array([[22, 28],\n",
       "       [49, 64]])"
      ]
     },
     "execution_count": 241,
     "metadata": {},
     "output_type": "execute_result"
    }
   ],
   "source": [
    "np.dot(A, B)"
   ]
  },
  {
   "cell_type": "code",
   "execution_count": 243,
   "id": "ace99ef1-be05-4858-a0cc-cf6b4dfdfcb0",
   "metadata": {},
   "outputs": [
    {
     "data": {
      "text/plain": [
       "(2,)"
      ]
     },
     "execution_count": 243,
     "metadata": {},
     "output_type": "execute_result"
    }
   ],
   "source": [
    "C = np.array([7, 8])\n",
    "C.shape"
   ]
  },
  {
   "cell_type": "code",
   "execution_count": 245,
   "id": "66c41410-3f6f-42c1-bc3a-b14b144b90fb",
   "metadata": {},
   "outputs": [
    {
     "data": {
      "text/plain": [
       "array([23, 53, 83])"
      ]
     },
     "execution_count": 245,
     "metadata": {},
     "output_type": "execute_result"
    }
   ],
   "source": [
    "np.dot(B, C)"
   ]
  },
  {
   "cell_type": "markdown",
   "id": "e38b4d9a-df9b-4971-b67d-0a3032595b2b",
   "metadata": {},
   "source": [
    "*np.dot(B, C) 관련: 표현은 행벡터로, 실제 이해는 같이 곱해지는 행렬의 shape에 따라 행벡터 or 열벡터로*\n",
    "- (3, 2)와 (2,)를 행렬의 내적(행렬 곱)하면 -> 3x2랑 곱해야 하니까 2x1 즉, 열벡터로 이해하면 되구나 -> 곱하면 3x1이네 -> 원소 수가 3개인 행벡터로 표현하면 되겠네 ex) [23, 53, 83]\n",
    "- (2,)와 (2, 3)을 행렬의 내적(행렬 곱)하면 -> 2x3랑 곱해야 하니까 1x2 즉, 행벡터로 이해하면 되구나 -> 곱하면 1x3이네 -> 원소 수가 3개인 행벡터로 표현하면 되겠네"
   ]
  },
  {
   "cell_type": "markdown",
   "id": "800fd0ce-831c-4c70-b614-2ebf668f6ede",
   "metadata": {},
   "source": [
    "**N차원 배열 간의 곱**\n",
    "- A의 각 **행**, B의 각 **열**끼리 순서대로 내적을 수행한 결과를 반환하는 느낌  \n",
    "  (*A에서는 가장 안쪽의 행, B에서는 가장 안쪽의 열끼리 곱하면 됨*)\n",
    "- *결과 shape: A의 마지막 shape 원소와 B의 첫번재 shape 원소를 합치면 됨*\n",
    "    - *(a, **b**)와 (**b**, c, d) shape의 곱 -> (a, **b**, c, d)*\n",
    "    - *(a, b, **c**)와 (**c**, d, e) shape의 곱 -> (a, b, **c**, d, e)*"
   ]
  },
  {
   "cell_type": "code",
   "execution_count": 283,
   "id": "15958a22-4b9c-4fff-af60-5c9cbd0286da",
   "metadata": {},
   "outputs": [
    {
     "name": "stdout",
     "output_type": "stream",
     "text": [
      "[[1 3]\n",
      " [2 4]]\n",
      "(2, 2)\n",
      "\n",
      "[[[1 1]\n",
      "  [0 1]]\n",
      "\n",
      " [[0 0]\n",
      "  [0 0]]]\n",
      "(2, 2, 2)\n",
      "\n",
      "[[[1 4]\n",
      "  [0 0]]\n",
      "\n",
      " [[2 6]\n",
      "  [0 0]]]\n",
      "(2, 2, 2)\n"
     ]
    }
   ],
   "source": [
    "A = np.array([[1, 3], [2, 4]])\n",
    "B = np.array([[[1, 1], [0, 1]], [[0, 0], [0, 0]]])\n",
    "print(A)\n",
    "print(A.shape)\n",
    "print()\n",
    "print(B)\n",
    "print(B.shape)\n",
    "print()\n",
    "print(np.dot(A,B))\n",
    "print(np.dot(A,B).shape)"
   ]
  },
  {
   "cell_type": "code",
   "execution_count": 285,
   "id": "e7f9f24b-2008-4afc-9fe1-a10c8f57f444",
   "metadata": {},
   "outputs": [
    {
     "name": "stdout",
     "output_type": "stream",
     "text": [
      "[[[1 2]\n",
      "  [3 4]]\n",
      "\n",
      " [[5 6]\n",
      "  [7 8]]]\n",
      "(2, 2, 2)\n",
      "\n",
      "[[[1 2]\n",
      "  [3 4]]\n",
      "\n",
      " [[5 6]\n",
      "  [7 8]]]\n",
      "(2, 2, 2)\n",
      "\n",
      "[[[[  7  10]\n",
      "   [ 19  22]]\n",
      "\n",
      "  [[ 15  22]\n",
      "   [ 43  50]]]\n",
      "\n",
      "\n",
      " [[[ 23  34]\n",
      "   [ 67  78]]\n",
      "\n",
      "  [[ 31  46]\n",
      "   [ 91 106]]]]\n",
      "(2, 2, 2, 2)\n"
     ]
    }
   ],
   "source": [
    "A = np.array([[[1, 2], [3, 4]], [[5, 6], [7, 8]]])\n",
    "B = np.array([[[1, 2], [3, 4]], [[5, 6], [7, 8]]])\n",
    "print(A)\n",
    "print(A.shape)\n",
    "print()\n",
    "print(B)\n",
    "print(B.shape)\n",
    "print()\n",
    "print(np.dot(A,B))\n",
    "print(np.dot(A,B).shape)"
   ]
  },
  {
   "cell_type": "markdown",
   "id": "05114728-3c47-48e2-9bf6-8e48308be8de",
   "metadata": {},
   "source": [
    "### **3.3 신경망의 내적**\n",
    "**np.dot**으로 단번에 편리하게 결과(Y)를 계산할 수 있다! <-> for문 사용해서 계산했어야 함...  \n",
    "\n",
    "다음과 같은 신경망 가정: 편향과 활성화 함수는 생략, 가중치만 가짐 \n",
    "> **$i$ layer의 가중치 행렬 $W^{(i)}$의 크기**    \n",
    "> = $i-1$ layer의 뉴런 개수 x $i$ layer의 뉴런 개수\n",
    "- *가중치는 각 입력마다 존재함 -> 가중치 행렬: 입력 개수만큼 행을 가짐*\n",
    "- $Y = XW$\n",
    "- $X$: 입력 vector임 -> vector 크기만큼 입력 뉴런이 있음\n",
    "![예시 신경망](https://mblogthumb-phinf.pstatic.net/MjAxODAyMDZfMTY5/MDAxNTE3OTE5NjQzMDA1.rF-FLyUa0eKJXLUQSpyuFPOFyE0cVRZjHp_szz6hzLIg.ftOoxM6PUP-oJSH_pVSRUfUXjvyVdCb9_EzSDZkTxWwg.PNG.kjs1124kr/fig_3-14.png?type=w800)"
   ]
  },
  {
   "cell_type": "code",
   "execution_count": 312,
   "id": "7ad28c98-1ae0-46d7-a197-39f5b9ed7937",
   "metadata": {},
   "outputs": [
    {
     "data": {
      "text/plain": [
       "(2,)"
      ]
     },
     "execution_count": 312,
     "metadata": {},
     "output_type": "execute_result"
    }
   ],
   "source": [
    "X = np.array([1, 2])\n",
    "X.shape"
   ]
  },
  {
   "cell_type": "code",
   "execution_count": 314,
   "id": "fa1693c5-b45f-4d48-8a26-bf791f7b1ecc",
   "metadata": {},
   "outputs": [
    {
     "data": {
      "text/plain": [
       "(2, 3)"
      ]
     },
     "execution_count": 314,
     "metadata": {},
     "output_type": "execute_result"
    }
   ],
   "source": [
    "W = np.array([[1, 3, 5], [2, 4, 6]])\n",
    "W.shape"
   ]
  },
  {
   "cell_type": "code",
   "execution_count": 316,
   "id": "1e753996-999c-49aa-9dc3-3b3696e24157",
   "metadata": {},
   "outputs": [
    {
     "name": "stdout",
     "output_type": "stream",
     "text": [
      "[ 5 11 17]\n"
     ]
    }
   ],
   "source": [
    "Y = np.dot(X, W)\n",
    "print(Y)"
   ]
  },
  {
   "cell_type": "markdown",
   "id": "7a0dac79-81d9-494c-98de-33051b9d630a",
   "metadata": {},
   "source": [
    "# **4. 3층 신경망 구현**\n",
    "#### **입력부터 출력까지의 처리(순방향 처리)를 구현해보자!**"
   ]
  },
  {
   "cell_type": "markdown",
   "id": "64894b1e-9bf7-4cbb-b8a6-079c01b98087",
   "metadata": {},
   "source": [
    "![3층 신경망](data:image/jpeg;base64,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)  \n",
    "[그림 4-1] 3층 신경망: 입력층(0층)은 2개, 1st 은닉층(1층)은 3개, 2nd 은닉층(2층)은 2개, 출력층(3층)은 2개의 뉴런으로 구성됨"
   ]
  },
  {
   "cell_type": "markdown",
   "id": "6ce33266-5542-47e0-9a4c-12b056448ac9",
   "metadata": {},
   "source": [
    "### **4.1 각 층의 신호 전달 구현**\n",
    "- 여기서의 가중치 표현: $w_{12}^{(1)}$\n",
    "    - 1: 다음 층 뉴런 번호\n",
    "    - 2: 앞 층 뉴런 번호\n",
    "    - (1): 층 번호\n",
    "    - $w$ 밑의 $12$ 숫자 순서를 반대로($w_{21}$) 표기하는 경우도 있으니, 자료를 볼 때마다 확인할 것"
   ]
  },
  {
   "cell_type": "markdown",
   "id": "0c0434c1-8fd9-4c5e-9684-38d2a64d63f6",
   "metadata": {},
   "source": [
    "#### **1st. 입력층에서 1층(1st 은닉층)으로의 신호 전달**\n",
    "\n",
    "![입력층에서 1층으로 신호 전달](https://img1.daumcdn.net/thumb/R1280x0/?scode=mtistory2&fname=https%3A%2F%2Fblog.kakaocdn.net%2Fdn%2FbeXdv6%2FbtqZ7LvzIcn%2F2uZb9ItCyCyLTYyowlTRu1%2Fimg.png)  \n",
    "[그림 4-2] 입력층에서 1층으로 신호 전달"
   ]
  },
  {
   "cell_type": "markdown",
   "id": "8e81c4cf-1934-405b-b0b3-ac939f5fb718",
   "metadata": {},
   "source": [
    "- *가중치: 각 입력마다 다음 층의 뉴런 수만큼 가중치를 가짐*\n",
    "- *편향: 다음 층의 뉴런 수만큼 편향 가짐*\n",
    "\n",
    "- $X$: ***입력 개수** 크기의 벡터*\n",
    "- $W$: ***(입력 개수(현재 층의 뉴런 수), 다음 층의 뉴런 수)** 크기의 행렬*\n",
    "- $B$: ***다음 층의 뉴런 수** 크기의 벡터*"
   ]
  },
  {
   "cell_type": "code",
   "execution_count": 26,
   "id": "ef5540c5-1213-4680-9459-761371b477a3",
   "metadata": {},
   "outputs": [
    {
     "name": "stdout",
     "output_type": "stream",
     "text": [
      "(2,)\n",
      "(2, 3)\n",
      "(3,)\n"
     ]
    }
   ],
   "source": [
    "# [그림 4-2] 식 구현\n",
    "# 입력, 가중치, 편향은 임의로 설정함\n",
    "\n",
    "X = np.array([1.0, 0.5])    # 입력 벡터\n",
    "W1 = np.array([[0.1, 0.3, 0.5], [0.2, 0.4, 0.6]])    # 1st 은닉층(1층)으로 향하는 가중치 행렬\n",
    "B1 = np.array([0.1, 0.2, 0.3])    # 1st 은닉층(1층)으로 향하는 편향 벡터\n",
    "\n",
    "print(X.shape)\n",
    "print(W1.shape)\n",
    "print(B1.shape)\n",
    "\n",
    "A1 = np.dot(X, W1) + B1    # 1층에서의 결과(가중합)"
   ]
  },
  {
   "cell_type": "markdown",
   "id": "8fac3838-6064-4b36-bacd-4564ac357f6a",
   "metadata": {},
   "source": [
    "#### **Q. 가중치의 값의 범위는 -1에서 1 사이인가?**\n",
    "- No. 3, 5, 200 등의 숫자도 가중치 값으로 가질 수 있음. -> *가중치 값의 범위는 정해져있지 않음*\n",
    "- 초기 가중치 값은 사용된 초기화 방법에 따라 값의 범위가 다름"
   ]
  },
  {
   "cell_type": "markdown",
   "id": "76a7152c-0079-4e67-b214-1164b432c595",
   "metadata": {},
   "source": [
    "#### **1st-2. 1층에서의 활성화 함수 처리**\n",
    "\n",
    "![활성화 함수 처리](https://img1.daumcdn.net/thumb/R1280x0/?scode=mtistory2&fname=https%3A%2F%2Fblog.kakaocdn.net%2Fdn%2FbjIrTd%2FbtqZ7LCnqbH%2F5x5xO7av99JOiTFC9je8N1%2Fimg.png)  \n",
    "[그림 4-3] 1층에서 활성화 함수 처리"
   ]
  },
  {
   "cell_type": "markdown",
   "id": "270c98f9-69f2-461f-909a-fb3843006eb5",
   "metadata": {},
   "source": [
    "- $a$: (은닉층에서의) 가중합(가중 신호와 편향의 총합)\n",
    "- $h()$: 활성화 함수\n",
    "- $z$: 활성화 함수 $h()$로 변환된 신호\n",
    "- 여기서는 $h()$를 sigmoid function으로 설정"
   ]
  },
  {
   "cell_type": "code",
   "execution_count": 28,
   "id": "705dba22-e979-45cb-a662-2473bd7d716d",
   "metadata": {},
   "outputs": [
    {
     "name": "stdout",
     "output_type": "stream",
     "text": [
      "[0.3 0.7 1.1]\n",
      "[0.57444252 0.66818777 0.75026011]\n"
     ]
    }
   ],
   "source": [
    "Z1 = sigmoid(A1)    # 앞에서 정의한 함수임\n",
    "\n",
    "print(A1)\n",
    "print(Z1)"
   ]
  },
  {
   "cell_type": "markdown",
   "id": "68066743-b411-47e5-8ce1-324c8e948cc6",
   "metadata": {},
   "source": [
    "#### **2nd. 1층에서 2층으로의 신호 전달**\n",
    "![1층에서 2층으로의 신호 전달](https://user-images.githubusercontent.com/76824611/117392911-f5f81f00-af2d-11eb-93c7-df5e04b78976.png)  \n",
    "[그림 4-4] 1층에서 2층으로의 신호 전달"
   ]
  },
  {
   "cell_type": "markdown",
   "id": "47efa743-909b-4508-a582-e92923f867e1",
   "metadata": {},
   "source": [
    "- 앞의 구현과 동일함\n",
    "- 차이점) Z1(1층의 출력)이 2층의 입력이 됨"
   ]
  },
  {
   "cell_type": "code",
   "execution_count": 30,
   "id": "75df9980-c1f5-4654-9ccc-1f5b88ddb6d3",
   "metadata": {},
   "outputs": [
    {
     "name": "stdout",
     "output_type": "stream",
     "text": [
      "(3,)\n",
      "(2, 3)\n",
      "(2,)\n"
     ]
    }
   ],
   "source": [
    "W2 = np.array([[0.1, 0.4], [0.2, 0.5], [0.3, 0.6]])\n",
    "B2 = np.array([0.1, 0.2])\n",
    "\n",
    "print(Z1.shape)\n",
    "print(W1.shape)\n",
    "print(B2.shape)\n",
    "\n",
    "A2 = np.dot(Z1, W2) + B2\n",
    "Z2 = sigmoid(A2)"
   ]
  },
  {
   "cell_type": "markdown",
   "id": "d313bddb-9ee4-4050-a5cd-050977abdb7d",
   "metadata": {},
   "source": [
    "#### **3rd. 2층에서 출력층으로의 신호 전달**\n",
    "- $\\sigma ()$: 출력층의 활성화 함수  \n",
    "  -> 은닉층의 활성화 함수 $h()$와 다름\n",
    "\n",
    "![2층에서 출력층으로의 신호 전달](https://user-images.githubusercontent.com/76824611/117392999-2213a000-af2e-11eb-9a2f-8f6a17006693.png)  \n",
    "[그림 4-5] 2층에서 출력층으로의 신호 전달"
   ]
  },
  {
   "cell_type": "markdown",
   "id": "24846dde-bfcc-4314-a79f-50f914f47a3c",
   "metadata": {},
   "source": [
    "- 차이점) 활성화 함수 다름 -> activation function으로 항등함수 사용  \n",
    "**항등 함수**: 입력을 그대로 출력하는 함수"
   ]
  },
  {
   "cell_type": "code",
   "execution_count": 32,
   "id": "c91e5bb4-cb1a-475d-b3ec-ad9fde30a48b",
   "metadata": {},
   "outputs": [],
   "source": [
    "# 항등 함수 정의 (굳이 정의할 필요 없긴 함)\n",
    "def identify_function(x):\n",
    "    return x\n",
    "\n",
    "# 2층에서 출력층으로의 신호 전달\n",
    "W3 = np.array([[0.1, 0.3], [0.2, 0.4]])\n",
    "B3 = np.array([0.1, 0.2])\n",
    "\n",
    "A3 = np.dot(Z2, W3) + B3\n",
    "Y = identify_function(A3)    # Y = A3"
   ]
  },
  {
   "cell_type": "markdown",
   "id": "fd841cb0-25c0-4fcb-b248-059e9a8db927",
   "metadata": {},
   "source": [
    "#### **출력층의 활성화 함수 설정**\n",
    "주어진 문제의 성질에 맞게 활성화 함수를 설정함. 예를 들어\n",
    "- 회귀: 항등 함수\n",
    "- 이진 분류: sigmoid 함수\n",
    "- 다중 클래스 분류: softmax 함수"
   ]
  },
  {
   "cell_type": "markdown",
   "id": "0c856a81-1ee5-4a5d-b9d2-056cd95b5b76",
   "metadata": {},
   "source": [
    "### **4.2 신경망의 순방향 구현 정리**  \n",
    "- (신경망 구현의 관례) **가중치만 대문자**, 편향과 중간 결과 등은 모두 소문자로 표기\n",
    "- **init_network(): 각 층에 필요한 매개변수(가중치, 편향) 초기화**\n",
    "    - 1. 가중치와 편향 초기화\n",
    "      2. dictionary variable인 network에 저장\n",
    "    - network: 각 층에 필요한 매개변수(가중치, 편향) 저장\n",
    "- **forward(): 입력 신호를 출력으로 변환**\n",
    "    - 입력 신호를 출력으로 변환하는 모든 처리 과정"
   ]
  },
  {
   "cell_type": "code",
   "execution_count": 417,
   "id": "bb81bb03-be35-4e55-89a0-67a01c643679",
   "metadata": {},
   "outputs": [
    {
     "name": "stdout",
     "output_type": "stream",
     "text": [
      "[0.31682708 0.69627909]\n"
     ]
    }
   ],
   "source": [
    "def init_network():\n",
    "    network = {}\n",
    "    network['W1'] = np.array([[0.1, 0.3, 0.5], [0.2, 0.4, 0.6]])\n",
    "    network['b1'] = np.array([0.1, 0.2, 0.3])\n",
    "    network['W2'] = np.array([[0.1, 0.4], [0.2, 0.5], [0.3, 0.6]])\n",
    "    network['b2'] = np.array([0.1, 0.2])\n",
    "    network['W3'] = np.array([[0.1, 0.3], [0.2, 0.4]])\n",
    "    network['b3'] = np.array([0.1, 0.2])\n",
    "    \n",
    "    return network\n",
    "\n",
    "def forward(network, x):\n",
    "    W1, W2, W3 = network['W1'], network['W2'], network['W3']\n",
    "    b1, b2, b3 = network['b1'], network['b2'], network['b3']\n",
    "\n",
    "    a1 = np.dot(x, W1) + b1\n",
    "    z1 = sigmoid(a1)\n",
    "    a2 = np.dot(z1, W2) + b2\n",
    "    z2 = sigmoid(a2)\n",
    "    a3 = np.dot(z2, W3) + b3\n",
    "    y = identify_function(a3)\n",
    "\n",
    "    return y\n",
    "\n",
    "network = init_network()\n",
    "x = np.array([1.0, 0.5])\n",
    "y = forward(network, x)\n",
    "print(y)"
   ]
  },
  {
   "cell_type": "markdown",
   "id": "25bc03e4-b132-4d5e-9c33-b73040473b39",
   "metadata": {},
   "source": [
    "#### **신경망 클래스 구현**\n",
    "*class MLP_floor3로 구현하는 게 편할 것 같은데, 객체 지향으로 신경망 클래스를 구현해보자!*"
   ]
  },
  {
   "cell_type": "code",
   "execution_count": 431,
   "id": "a952c8c6-edae-4466-a4b1-b93dcbee02f8",
   "metadata": {},
   "outputs": [
    {
     "name": "stdout",
     "output_type": "stream",
     "text": [
      "[0.31682708 0.69627909]\n"
     ]
    }
   ],
   "source": [
    "class MLP_f3:\n",
    "    # 클래스 초기화\n",
    "    def __init__(self):\n",
    "        self.network = self.init_network()\n",
    "\n",
    "    # network 초기화\n",
    "    def init_network(self):\n",
    "        network = {}\n",
    "        network['W1'] = np.array([[0.1, 0.3, 0.5], [0.2, 0.4, 0.6]])\n",
    "        network['b1'] = np.array([0.1, 0.2, 0.3])\n",
    "        network['W2'] = np.array([[0.1, 0.4], [0.2, 0.5], [0.3, 0.6]])\n",
    "        network['b2'] = np.array([0.1, 0.2])\n",
    "        network['W3'] = np.array([[0.1, 0.3], [0.2, 0.4]])\n",
    "        network['b3'] = np.array([0.1, 0.2])\n",
    "        \n",
    "        return network\n",
    "\n",
    "    # 활성화 함수(은닉층)\n",
    "    def sigmoid(self, x):\n",
    "        return 1 / (1 + exp(-x))\n",
    "\n",
    "    # 활성화 함수, 출력 함수(출력층)\n",
    "    def identify_function(self, x):\n",
    "        return x\n",
    "\n",
    "    # 순전파\n",
    "    def forward(self, x):\n",
    "        W1, W2, W3 = self.network['W1'], self.network['W2'], self.network['W3']\n",
    "        b1, b2, b3 = self.network['b1'], self.network['b2'], self.network['b3']\n",
    "    \n",
    "        a1 = np.dot(x, W1) + b1\n",
    "        z1 = sigmoid(a1)\n",
    "        a2 = np.dot(z1, W2) + b2\n",
    "        z2 = sigmoid(a2)\n",
    "        a3 = np.dot(z2, W3) + b3\n",
    "        y = identify_function(a3)\n",
    "    \n",
    "        return y\n",
    "\n",
    "network = MLP_f3()\n",
    "x = np.array([1.0, 0.5])\n",
    "y = network.forward(x)\n",
    "print(y)"
   ]
  },
  {
   "cell_type": "markdown",
   "id": "ac591fc8-fc3f-4967-b40e-203e483b0e70",
   "metadata": {},
   "source": [
    "# **5. 출력층 설계**"
   ]
  },
  {
   "cell_type": "markdown",
   "id": "f202ae97-2cc5-428f-bee7-106c21b9361f",
   "metadata": {},
   "source": [
    "- 기계학습 문제\n",
    "    - **분류(classification)**: data가 어느 class에 속하는지 예측하는 문제\n",
    "    - **회귀(regression)**: 입력 data에서 (연속적인) 수치를 예측하는 문제\n",
    "- 신경망: 분류, 회귀 문제에 모두 사용 가능\n",
    "- 문제에 따라 **출력층에서 사용하는 활성화 함수**가 달라짐\n",
    "    - (일반적으로) 회귀 문제: 항등함수\n",
    "    - (일반적으로) 분류 문제: softmax function"
   ]
  },
  {
   "cell_type": "markdown",
   "id": "2ee515bc-9dd9-4c55-81e1-fc4d7d733771",
   "metadata": {},
   "source": [
    "### **5.1 항등함수와 소프트맥스 함수 구현**\n",
    "#### **항등 함수(identify function)**\n",
    "**입력을 그대로 출력하는 함수**  \n",
    "- 항등: 입력과 출력이 항상 같다(입력=출력)\n",
    "- 출력층에서 항등함수를 사용하면 -> 입력 신호가 그대로 출력 신호가 됨\n",
    "\n",
    "<img src=\"https://img1.daumcdn.net/thumb/R1280x0/?scode=mtistory2&fname=https%3A%2F%2Fblog.kakaocdn.net%2Fdn%2FDlvpA%2FbtqDCbj08aC%2FPRIiHXqyD2GtuxicYnh3Yk%2Fimg.png\" width=\"200\" height=\"200\" />  \n",
    "[그림5-1] 항등함수\n"
   ]
  },
  {
   "cell_type": "markdown",
   "id": "fbedfc96-00b5-4fa1-bf1a-8924f0c678a9",
   "metadata": {},
   "source": [
    "#### **소프트맥스 함수(softmax function)**\n",
    "$y_k = softmax(a_k) =$ $exp(a_k) \\over \\displaystyle\\sum_{i=1}^{n} exp(a_i)$\n",
    "\n",
    "- $n$: 출력층의 뉴런 수\n",
    "- $y_k$: $k$번째 출력\n",
    "- $a_k$: 입력 신호\n",
    "- 분모: 모든 입력 신호의 지수 함수의 합\n",
    "- 분자: 입력 신호 $a_k$의 지수 함수\n",
    "- 다중 클래스 분류에서 사용\n",
    "\n",
    "*그림 5-2는 서로 다른 층이 아니라 같은 층 내부에서 activation function을 적용하는 과정을 보여주는 것임! 그니까 a와 y 모두 출력층임.*\n",
    "\n",
    "<img src=\"https://img1.daumcdn.net/thumb/R1280x0/?scode=mtistory2&fname=https%3A%2F%2Fblog.kakaocdn.net%2Fdn%2FbflrEy%2FbtqDDw82X0O%2FH7vU7vKVK1RjIeHSXb2ZVK%2Fimg.png\" width=\"200\" height=\"200\" />  \n",
    "[그림5-2] 소프트맥스 함수\n",
    "\n",
    "소프트맥스의 출력: 모든 입력 신호로부터 화살표를 받음  \n",
    "-> why? softmax 함수 식의 분모를 보면 출력층의 각 뉴런이 모든 입력 신호에서 영향을 받기 때문"
   ]
  },
  {
   "cell_type": "markdown",
   "id": "db423a46-67a0-46e4-ac64-1d4db976bf81",
   "metadata": {},
   "source": [
    "#### **Q. softmax function은 지수 함수를 포함하고 있는데, 이로부터 얻는 장점은 무엇인가? (지수 함수 도입의 장점)**\n",
    "1. 미분 계산에 용이함\n",
    "    - 지수함수의 미분은 자기 자신임    \n",
    "      $\\frac{d}{dx}e^x = e^x$\n",
    "2. 비선형성\n",
    "    - 지수함수를 도입하여 비선형성 추가\n",
    "    - 데이터 간의 비선형적인 관계를 모델링할 수 있음\n",
    "3. 입력 벡터가 더 잘 구분될 수 있게 함(출력값 간 차이 확대)\n",
    "    - 지수함수: 입력값 중 큰 값은 더 크게 만들고, 작은 값은 더 작게 만듦 (*지수함수 그래프를 생각해보자!*)\n",
    "4. 임의의 실수값(음수값도 포함) 입력 벡터를 받아도 출력값이 음수가 아닌 양수로 만들어주고, 합이 최대 1이 되도록 만들어줌"
   ]
  },
  {
   "cell_type": "code",
   "execution_count": 34,
   "id": "a1da4a2c-09b7-4fee-a0b5-3687bc04b422",
   "metadata": {},
   "outputs": [],
   "source": [
    "# softmax function 구현\n",
    "def softmax(a):    # a: 입력 벡터(각 원소는 입력 신호)\n",
    "    exp_a = np.exp(a)\n",
    "    sum_exp_a = np.sum(exp_a)\n",
    "    y = exp_a / sum_exp_a   # broadcast\n",
    "    return y"
   ]
  },
  {
   "cell_type": "code",
   "execution_count": 36,
   "id": "39ff8769-375b-4761-8d08-82e798caaeaf",
   "metadata": {},
   "outputs": [
    {
     "name": "stdout",
     "output_type": "stream",
     "text": [
      "[ 1.34985881 18.17414537 54.59815003]\n",
      "74.1221542101633\n",
      "[0.01821127 0.24519181 0.73659691]\n"
     ]
    }
   ],
   "source": [
    "# softmax(a) 원리\n",
    "a = np.array([0.3, 2.9, 4.0])\n",
    "\n",
    "exp_a = np.exp(a)    # 지수함수\n",
    "print(exp_a)\n",
    "\n",
    "sum_exp_a = np.sum(exp_a)    # 지수함수의 합\n",
    "print(sum_exp_a)\n",
    "\n",
    "y = exp_a / sum_exp_a    # broadcast\n",
    "print(y)"
   ]
  },
  {
   "cell_type": "code",
   "execution_count": 38,
   "id": "6d507cd3-ae23-4668-b357-b7a3fe25f590",
   "metadata": {},
   "outputs": [
    {
     "data": {
      "text/plain": [
       "array([0.01821127, 0.24519181, 0.73659691])"
      ]
     },
     "execution_count": 38,
     "metadata": {},
     "output_type": "execute_result"
    }
   ],
   "source": [
    "softmax(a)    # a = np.array([0.3, 2.9, 4.0])"
   ]
  },
  {
   "cell_type": "markdown",
   "id": "a4dc90ac-afef-484c-904e-b3b67eb24c44",
   "metadata": {},
   "source": [
    "### **5.2 softmax function 구현 시 주의점**\n",
    "#### **overflow 문제가 발생할 수 있음**\n",
    "**why?**\n",
    "- 컴퓨터는 수를 4B, 8B 같이 크기가 유한한 데이터로 다룸 -> 표현할 수 있는 범위가 한정되어 있음\n",
    "- but 지수 함수는 아주 큰 값을 내뱉음(e^10만 되어도 20,000이 넘음)\n",
    "- 컴퓨터는 너무 큰 값은 표현할 수 없음(문제점) -> **overflow**\n",
    "\n",
    "아래 코드를 보면 출력이 array([nan, nan, nan])으로 나옴 -> 제대로 계산 안 됨, overflow가 발생한 것임"
   ]
  },
  {
   "cell_type": "code",
   "execution_count": 42,
   "id": "a8474be0-e904-4ccc-a328-98f87a351515",
   "metadata": {},
   "outputs": [
    {
     "name": "stderr",
     "output_type": "stream",
     "text": [
      "C:\\Users\\yedin\\AppData\\Local\\Temp\\ipykernel_21172\\3183966819.py:3: RuntimeWarning: overflow encountered in exp\n",
      "  np.exp(a) / np.sum(np.exp(a))    # softmax 함수의 계산\n",
      "C:\\Users\\yedin\\AppData\\Local\\Temp\\ipykernel_21172\\3183966819.py:3: RuntimeWarning: invalid value encountered in divide\n",
      "  np.exp(a) / np.sum(np.exp(a))    # softmax 함수의 계산\n"
     ]
    },
    {
     "data": {
      "text/plain": [
       "array([nan, nan, nan])"
      ]
     },
     "execution_count": 42,
     "metadata": {},
     "output_type": "execute_result"
    }
   ],
   "source": [
    "# overflow 문제 발생 예시\n",
    "a = np.array([1010, 1000, 990])    # 지수함수의 입력으로 넣으면 출력값이 inf(무한대)일 것 같은 느낌이 든다!\n",
    "np.exp(a) / np.sum(np.exp(a))    # softmax 함수의 계산"
   ]
  },
  {
   "cell_type": "markdown",
   "id": "fe8ce93d-822f-430e-b944-09ae1f89dbf4",
   "metadata": {},
   "source": [
    "#### **softmax function 구현에서 overflow 문제를 어떻게 해결?**\n",
    "**sol) softmax의 지수함수 계산 시 어떤 정수(C', 보통 입력 신호 중 최댓값을 이용함)를 더하여 overflow를 막자**"
   ]
  },
  {
   "cell_type": "markdown",
   "id": "088845cd-42a1-49df-bbfd-ccf4b806bd10",
   "metadata": {},
   "source": [
    "<img src=\"https://img1.daumcdn.net/thumb/R1280x0/?scode=mtistory2&fname=https%3A%2F%2Fblog.kakaocdn.net%2Fdn%2Fd2SUu7%2FbtqDFoWxOxj%2FIKkXEvfjsZqzE48LYBdFKk%2Fimg.png\" width=\"300\" height=\"300\" />"
   ]
  },
  {
   "cell_type": "markdown",
   "id": "6fa0d123-4608-4b43-8db5-625f017f2b00",
   "metadata": {},
   "source": [
    "**식 전개 과정**\n",
    "1. 임의의 정수 $C$를 분자, 분모에 곱함\n",
    "2. $C$를 $\\log C$ 형태로 지수 함수 안으로 옮김\n",
    "3. $C' = \\log C$ 새로운 기호 $C'$로 바꿈\n",
    "> 식이 말하는 것:  \n",
    "> softmax의 지수 함수를 계산할 때 어떤 정수를 더하거나 빼도 결과는 바뀌지 않는다.  \n",
    "> overflow를 막는 목적으로는 **입력 신호 중 최댓값**을 이용하는 것이 일반적임"
   ]
  },
  {
   "cell_type": "code",
   "execution_count": 44,
   "id": "4c62df45-0214-4a57-bf60-441d59ce327f",
   "metadata": {},
   "outputs": [
    {
     "name": "stdout",
     "output_type": "stream",
     "text": [
      "[  0 -10 -20]\n"
     ]
    },
    {
     "data": {
      "text/plain": [
       "array([9.99954600e-01, 4.53978686e-05, 2.06106005e-09])"
      ]
     },
     "execution_count": 44,
     "metadata": {},
     "output_type": "execute_result"
    }
   ],
   "source": [
    "# overflow 문제 발생 해결 - c 변수 도입하여 지수 함수에서 빼줌\n",
    "c = np.max(a)\n",
    "print(a - c)\n",
    "np.exp(a-c) / np.sum(np.exp(a-c))"
   ]
  },
  {
   "cell_type": "code",
   "execution_count": 46,
   "id": "a9cbc859-2f83-44c7-bfbc-1134e0a4f2b5",
   "metadata": {},
   "outputs": [],
   "source": [
    "# overflow를 방지한 softmax 함수 구현\n",
    "def softmax(a):\n",
    "    c = np.max(a)\n",
    "    exp_a = np.exp(a - c)\n",
    "    sum_exp_a = np.sum(exp_a)\n",
    "    y = exp_a / sum_exp_a\n",
    "    return y"
   ]
  },
  {
   "cell_type": "code",
   "execution_count": 48,
   "id": "0f2b0e24-37b6-4742-8949-2bd70b788f64",
   "metadata": {},
   "outputs": [
    {
     "data": {
      "text/plain": [
       "array([9.99954600e-01, 4.53978686e-05, 2.06106005e-09])"
      ]
     },
     "execution_count": 48,
     "metadata": {},
     "output_type": "execute_result"
    }
   ],
   "source": [
    "softmax(a)"
   ]
  },
  {
   "cell_type": "markdown",
   "id": "673b8e1f-474e-4330-9b6c-ece8a83ca84e",
   "metadata": {},
   "source": [
    "### **5.3 softmax function 특징**\n",
    "1. 출력값: 0에서 1.0 사이의 실수\n",
    "2. **출력의 총합 = 1** -> softmax function의 출력을 **확률**로 해석 가능\n",
    "3. softmax 함수를 적용해도 각 원소의 대소 관계는 유지됨 -> why? 지수함수는 단조 증가 함수임"
   ]
  },
  {
   "cell_type": "markdown",
   "id": "0a7cde46-73eb-4bb9-81c6-78fd4fe495d1",
   "metadata": {},
   "source": [
    "#### **신경망의 분류: 가장 큰 출력을 내는 뉴런에 해당하는 class로 분류함**\n",
    "**기계학습의 문제 풀이 단계**\n",
    "1. **학습**: 모델 학습\n",
    "- 학습 단계: 출력층에서 softmax 함수 사용\n",
    "2. **추론**: 학습한 모델로 새로운 데이터에 대해 추론(분류) 수행\n",
    "- **추론 단계: 출력층의 softmax 함수 생략**\n",
    "- (3번 특징에 의해) **출력층의 softmax 함수는 생략**하는 것이 일반적 -> 지수함수 계산에 드는 자원 낭비 줄일 수 있음\n",
    "\n",
    "> **신경망의 문제 풀이 단계**\n",
    "> (기계학습과 비슷한 단계 거침)\n",
    "> 1. 학습: train data를 사용해 가중치 매개변수를 학습  \n",
    "> 2. 추론: 학습한 매개변수를 사용해 새로운 데이터 예측(ex: 분류)"
   ]
  },
  {
   "cell_type": "markdown",
   "id": "be7e11e8-6c26-4cf9-a8dd-7d2a349bfc8e",
   "metadata": {},
   "source": [
    "### **5.4 출력층의 뉴런 수 정하기**\n",
    "**분류에서의 출력층의 뉴런 수: 분류하고 싶은 class 수**"
   ]
  },
  {
   "cell_type": "markdown",
   "id": "96f8c4a9-d189-43c7-b26a-614264fd770c",
   "metadata": {},
   "source": [
    "# **6. 손글씨 숫자 인식**\n",
    "학습 과정은 생략함. 이미 학습된 매개변수를 사용하여 추론 과정만 구현함.  \n",
    "**순전파(forward propagation)**: 신경망의 추론 과정"
   ]
  },
  {
   "cell_type": "markdown",
   "id": "75109663-a745-4e05-b7dd-e9f9bf96f699",
   "metadata": {},
   "source": [
    "### **6.1 MNIST dataset**\n",
    "0~9까지의 손글씨 숫자 이미지 데이터(28x28 크기의 회색조 이미지, 1채널)\n",
    "- 각 픽셀 값: 0~255까지의 값\n",
    "- train data: 60,000개 -> 모델 학습\n",
    "- test data: 10,000개 -> 모델 평가"
   ]
  },
  {
   "cell_type": "markdown",
   "id": "91436c1e-9ccd-4427-be5a-d9511e72da97",
   "metadata": {},
   "source": [
    "#### **dataset load**\n",
    "*책의 코드를 따르지 않음*"
   ]
  },
  {
   "cell_type": "code",
   "execution_count": 50,
   "id": "2594fb21-f782-40d1-8d94-c53429a70d7b",
   "metadata": {},
   "outputs": [
    {
     "name": "stdout",
     "output_type": "stream",
     "text": [
      "Requirement already satisfied: torchvision in c:\\users\\yedin\\anaconda3\\lib\\site-packages (0.18.1)\n",
      "Requirement already satisfied: numpy in c:\\users\\yedin\\anaconda3\\lib\\site-packages (from torchvision) (1.26.4)\n",
      "Requirement already satisfied: torch==2.3.1 in c:\\users\\yedin\\anaconda3\\lib\\site-packages (from torchvision) (2.3.1)\n",
      "Requirement already satisfied: pillow!=8.3.*,>=5.3.0 in c:\\users\\yedin\\anaconda3\\lib\\site-packages (from torchvision) (10.3.0)\n",
      "Requirement already satisfied: filelock in c:\\users\\yedin\\anaconda3\\lib\\site-packages (from torch==2.3.1->torchvision) (3.13.1)\n",
      "Requirement already satisfied: typing-extensions>=4.8.0 in c:\\users\\yedin\\anaconda3\\lib\\site-packages (from torch==2.3.1->torchvision) (4.11.0)\n",
      "Requirement already satisfied: sympy in c:\\users\\yedin\\anaconda3\\lib\\site-packages (from torch==2.3.1->torchvision) (1.12)\n",
      "Requirement already satisfied: networkx in c:\\users\\yedin\\anaconda3\\lib\\site-packages (from torch==2.3.1->torchvision) (3.2.1)\n",
      "Requirement already satisfied: jinja2 in c:\\users\\yedin\\anaconda3\\lib\\site-packages (from torch==2.3.1->torchvision) (3.1.4)\n",
      "Requirement already satisfied: fsspec in c:\\users\\yedin\\anaconda3\\lib\\site-packages (from torch==2.3.1->torchvision) (2024.3.1)\n",
      "Requirement already satisfied: mkl<=2021.4.0,>=2021.1.1 in c:\\users\\yedin\\anaconda3\\lib\\site-packages (from torch==2.3.1->torchvision) (2021.4.0)\n",
      "Requirement already satisfied: intel-openmp==2021.* in c:\\users\\yedin\\anaconda3\\lib\\site-packages (from mkl<=2021.4.0,>=2021.1.1->torch==2.3.1->torchvision) (2021.4.0)\n",
      "Requirement already satisfied: tbb==2021.* in c:\\users\\yedin\\anaconda3\\lib\\site-packages (from mkl<=2021.4.0,>=2021.1.1->torch==2.3.1->torchvision) (2021.13.0)\n",
      "Requirement already satisfied: MarkupSafe>=2.0 in c:\\users\\yedin\\anaconda3\\lib\\site-packages (from jinja2->torch==2.3.1->torchvision) (2.1.3)\n",
      "Requirement already satisfied: mpmath>=0.19 in c:\\users\\yedin\\anaconda3\\lib\\site-packages (from sympy->torch==2.3.1->torchvision) (1.3.0)\n"
     ]
    }
   ],
   "source": [
    "!pip install torchvision"
   ]
  },
  {
   "cell_type": "code",
   "execution_count": 52,
   "id": "c19839a4-ac6e-4d16-8924-ae8cbc575bd8",
   "metadata": {},
   "outputs": [],
   "source": [
    "import torchvision.datasets as dsets\n",
    "import torchvision.transforms as transforms\n",
    "from torch.utils.data import DataLoader\n",
    "import matplotlib.pyplot as plt\n",
    "import random"
   ]
  },
  {
   "cell_type": "code",
   "execution_count": 54,
   "id": "28ff783e-92bd-4b90-8142-8b095ece2d0b",
   "metadata": {},
   "outputs": [],
   "source": [
    "# MNIST dataset\n",
    "mnist_train = dsets.MNIST(root='MNIST_data/',\n",
    "                          train=True,\n",
    "                          transform=transforms.ToTensor(),\n",
    "                          download=True)\n",
    "mnist_test = dsets.MNIST(root='MNIST_data/',\n",
    "                         train=False,\n",
    "                         transform=transforms.ToTensor(),\n",
    "                         download=True)"
   ]
  },
  {
   "cell_type": "markdown",
   "id": "03bcb709-7af9-4c09-8e7f-ff47beff65e3",
   "metadata": {},
   "source": [
    "- **mnist_train.data**: train set의 input data  \n",
    "- **mnist_train.targets**: train set의 target(정답, label)  \n",
    "- **mnist_test.data**: test set의 input data  \n",
    "- **mnist_test.targets**: test set의 target  "
   ]
  },
  {
   "cell_type": "code",
   "execution_count": 57,
   "id": "dfb8911f-9ce4-4289-957d-9b769927daae",
   "metadata": {},
   "outputs": [
    {
     "name": "stdout",
     "output_type": "stream",
     "text": [
      "torch.Size([60000, 28, 28])\n",
      "torch.Size([60000])\n",
      "torch.Size([10000, 28, 28])\n",
      "torch.Size([10000])\n"
     ]
    }
   ],
   "source": [
    "print(mnist_train.data.shape)\n",
    "print(mnist_train.targets.shape)\n",
    "print(mnist_test.data.shape)\n",
    "print(mnist_test.targets.shape)"
   ]
  },
  {
   "cell_type": "code",
   "execution_count": 59,
   "id": "a51a5b71-f6fc-439d-b831-f57166682dd9",
   "metadata": {},
   "outputs": [],
   "source": [
    "# dataset vector 형태로 바꿔주기\n",
    "x_train = mnist_train.data.view(mnist_train.data.size(0), -1)    # train data\n",
    "t_train = mnist_train.targets    # train label\n",
    "x_test = mnist_test.data.view(mnist_test.data.size(0), -1)    # test data\n",
    "t_test = mnist_test.targets    # test label"
   ]
  },
  {
   "cell_type": "code",
   "execution_count": 61,
   "id": "249b5da9-6b40-42a7-ac7b-7508a676e7be",
   "metadata": {},
   "outputs": [
    {
     "name": "stdout",
     "output_type": "stream",
     "text": [
      "torch.Size([60000, 784])\n",
      "torch.Size([60000])\n",
      "torch.Size([10000, 784])\n",
      "torch.Size([10000])\n"
     ]
    }
   ],
   "source": [
    "print(x_train.shape)\n",
    "print(t_train.shape)\n",
    "print(x_test.shape)\n",
    "print(t_test.shape)"
   ]
  },
  {
   "cell_type": "code",
   "execution_count": 63,
   "id": "aee4f01a-2975-4db0-a409-81da9470fed4",
   "metadata": {},
   "outputs": [
    {
     "data": {
      "image/png": "[encoded data removed]",
      "text/plain": [
       "<Figure size 640x480 with 1 Axes>"
      ]
     },
     "metadata": {},
     "output_type": "display_data"
    }
   ],
   "source": [
    "plt.imshow(x_train[0].view(28,28), cmap='Greys', interpolation='nearest')\n",
    "plt.show()"
   ]
  },
  {
   "cell_type": "markdown",
   "id": "0a4f8c8f-728c-45c4-856f-bf9efd617174",
   "metadata": {},
   "source": [
    "### **6.2 신경망의 추론 처리**\n",
    "#### **MNIST dataset으로 추론 수행하는 신경망 구현**\n",
    "- input layer: 뉴런 784개(why? 이미지 크기=28x28이기 때문임) -> *feature 수*\n",
    "- output layer: 뉴런 10개(0~9) -> *class 수*\n",
    "- 은닉층은 2개 사용할 것임\n",
    "    - 1st hidden layer: 뉴런 50개(임의로 정함)\n",
    "    - 2nd hidden layer: 뉴런 100개(임의로 정함)"
   ]
  },
  {
   "cell_type": "code",
   "execution_count": null,
   "id": "d0ea9958-4170-4bc8-8eeb-1fe7f662e0d4",
   "metadata": {},
   "outputs": [],
   "source": [
    "'''\n",
    "mnist dataset laod 과정을 책 방식대로 안했기 때문에 함수 작성에 동기화 문제가 있음.\n",
    "그래서 핵심 함수인 predict 함수만 작성하겠음. 책의 기재된 코드로 작성함. 느낌만 가져가기!\n",
    "'''\n",
    "def predict(network, x):\n",
    "    # network: 학습된 가중치 매개변수를 담은 딕셔너리 변수\n",
    "    # x: 입력 데이터\n",
    "    # 출력층을 제외한 각 층마다 가중치 행렬과 편향 벡터가 있는 것임.\n",
    "    W1, W2, W3 = network['W1'], network['W2'], network['W3']\n",
    "    b1, b2, b3 = network['b1'], network['b2'], network['b3']\n",
    "\n",
    "    a1 = np.dot(x, W1) + b1\n",
    "    z1 = sigmoid(a1)\n",
    "    a2 = np.dot(z1, W2) + b2\n",
    "    z2 = sigmoid(a2)\n",
    "    a3 = np.dot(z2, W3) + b3\n",
    "    y = softmax(a3)    # 출력층이니까 multi-class classification task에 맞게 softmax 함수를 씀\n",
    "\n",
    "    return y"
   ]
  },
  {
   "cell_type": "markdown",
   "id": "1acdcdef-ab08-43c4-9615-0235cbd8a605",
   "metadata": {},
   "source": [
    "#### **전처리(pre-processing)**\n",
    "신경망(딥러닝)의 입력 데이터에 특정 변환을 가하는 것 \n",
    "- 현업에서도 딥러닝에 전처리를 활발히 사용함\n",
    "- 전처리의 효과: 식별 능력 개선, 학습 속도 높이기 등\n",
    "- ex) MNIST dataset으로 추론 수행할 때 입력 이미지 데이터에 대한 전처리 작업으로 정규화를 수행함\n",
    "##### **정규화 (Normalization)**\n",
    "입력 데이터의 범위를 특정 범위(일정한 범위)로 변환(scaling)하는 것\n",
    "- **목적**\n",
    "    - 대부분의 DL model, 특히 신경망은 입력 데이터의 scale에 민감함. 그러므로 데이터가 잘 정규화되면 학습이 더 안정적이고 빠르게 진행됨.\n",
    "    - 정규화를 통해 모델이 각 feature의 중요도를 잘 학습할 수 있게 함.\n",
    "- **사용 상황**\n",
    "    - feature간의 스케일이 크게 다른 경우에 사용됨.\n",
    "    - ex) feature1은 0 ~ 1 범위이고, feature2는 0 ~ 1000 범위인 경우\n",
    "- ex) normalize=True로 설정함으로써 0 ~ 255 범위인 각 픽셀 값을 0.0 ~ 1.0 범위로 변환함 -> how? 단순히 픽셀값을 255로 나누면 됨.\n",
    "- 현업에서는 (단순히 특정 값으로 나누기보다) 데이터 전체의 분포를 고려해 전처리 하는 경우가 많음  \n",
    "  ex) 데이터 전체의 평균과 표준편차 이용 -> 데이터들이 0을 중심으로 분포하도록 이동시키거나 데이터의 확산 범위를 제한하는 정규화를 수행함.\n",
    "##### **표준화 (Standardization)**\n",
    "데이터의 평균을 0, 표준편차를 1로 맞추는 과정\n",
    "##### **원-핫 인코딩 (One-Hot Encoding)**\n",
    "범주형 데이터를 이진 벡터로 변환하는 기법\n",
    "- 범주형 데이터(Categorical Data): 데이터가 몇 개의 고유한 값(범주) 중 하나에 속하는 형태의 데이터 ex) 성별, 색상, 도시 이름, 제품 카테고리 등\n",
    "- ex) 'Red', 'Green', 'Blue'라는 세 가지 범주형 값이 있다면, 이를 각각 [1, 0, 0], [0, 1, 0], [0, 0, 1]로 변환\n",
    "- **목적**: DL model은 숫자 입력을 다룸 -> 범주형 데이터를 수치형으로 변환해야 함\n",
    "- **사용 상황**: 범주형 데이터를 다룰 때"
   ]
  },
  {
   "cell_type": "markdown",
   "id": "18a5b437-c937-46d8-9ac2-3ad113704300",
   "metadata": {},
   "source": [
    "### **6.3 배치 처리**\n",
    "여기서는 **배치 단위의 추론**에 대해 설명함. 배치 단위의 추론은 자원 효율성, 처리 속도, 일관된 성능, 비용 절감 등의 장점 때문에 현업에서 잘 쓰임.\n",
    "\n",
    "*앞서 MNIST dataset으로 추론 수행하는 신경망 아키텍처는 다음과 같았음*\n",
    "- input layer: 뉴런 784개(why? 이미지 크기=28x28이기 때문임) -> *feature 수*\n",
    "- output layer: 뉴런 10개(0~9) -> *class 수*\n",
    "- 은닉층은 2개 사용할 것임\n",
    "    - 1st hidden layer: 뉴런 50개(임의로 정함)\n",
    "    - 2nd hidden layer: 뉴런 100개(임의로 정함)\n",
    "#### **이미지 데이터 1개만 입력했을 때**\n",
    "- 입력: 원소가 784개로 구성된 1차원 배열 (원래는 28x28인 2차원 배열)\n",
    "- 출력: 원소가 10개인 1차원 배열\n",
    "![](https://velog.velcdn.com/images/jw5150/post/96309194-c822-451f-a5c5-4ae75dfce020/image.png)\n",
    "[그림 6-1] 신경망 각 층의 배열 형상의 추이\n",
    "#### **이미지 여러 개를 한꺼번에 입력했을 때**\n",
    "이미지 100개를 묶어 predict() 함수에 한꺼번에 입력하는 경우를 생각해보자.\n",
    "- $X$의 shape을 100x784로 바꿔서 100개의 데이터를 하나의 입력 데이터로 표현하면 됨\n",
    "![](https://velog.velcdn.com/images/jw5150/post/bee54ec1-7213-44ce-9f76-63e51c684ff7/image.png)\n",
    "[그림 6-2] 배치 처리를 위한 배열들의 형상 추이\n",
    "#### **배치(batch)란?**\n",
    "학습 과정에서 모델이 한 번에 처리하는 입력 데이터의 묶음 (학습의 기본 단위)\n",
    "- 전체 데이터셋을 한 번에 처리하기 어려운 경우, 이를 여러 개의 작은 묶음으로 나누어 처리함. (각 묶음이 하나의 배치가 됨)"
   ]
  },
  {
   "cell_type": "markdown",
   "id": "c4afb86b-b65b-427c-afba-27a23c6a8e4a",
   "metadata": {},
   "source": [
    "# **7. 요약**\n",
    "신경망의 순전파를 살펴봄\n",
    "- **신경망에서의 활성화 함수**로 step function이 아닌 sigmoid, ReLU 함수와 같은 매끄럽게 변화하는 함수를 이용한다.\n",
    "- 넘파이의 다차원 배열 연산(**np.dot**)을 사용하여 신경망을 효율적으로 구현할 수 있다.\n",
    "- **출력층의 활성화 함수**로는 주로 회귀에서는 항등함수, 분류에서는 softmax 함수를 이용한다.\n",
    "- 분류에서는 출력층의 뉴런 수 = 분류하려는 클래스 수\n",
    "- 입력 데이터를 묶은 것을 배치(batch)라고 하며, 추론 처리를 배치 단위로 진행하면 결과를 훨씬 더 빠르게 얻을 수 있다."
   ]
  }
 ],
 "metadata": {
  "kernelspec": {
   "display_name": "Python 3 (ipykernel)",
   "language": "python",
   "name": "python3"
  },
  "language_info": {
   "codemirror_mode": {
    "name": "ipython",
    "version": 3
   },
   "file_extension": ".py",
   "mimetype": "text/x-python",
   "name": "python",
   "nbconvert_exporter": "python",
   "pygments_lexer": "ipython3",
   "version": "3.12.4"
  }
 },
 "nbformat": 4,
 "nbformat_minor": 5
}
