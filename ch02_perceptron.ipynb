{
 "cells": [
  {
   "cell_type": "markdown",
   "id": "7bc32d4d-1fc5-46d7-8d3d-544ef66ba465",
   "metadata": {},
   "source": [
    "# **1. Perceptron**\n",
    "*여기서 기술하는 퍼셉트론은 단순 퍼셉트론임*"
   ]
  },
  {
   "cell_type": "markdown",
   "id": "0719b7ef-04fc-4956-89a6-f26129ba5857",
   "metadata": {},
   "source": [
    "#### **퍼셉트론**\n",
    "신경망(딥러닝)의 기원이 되는 알고리즘  \n",
    "**다수의 신호($x_{1}$, $x_{2}$)를 입력으로 받아 하나의 신호($y$)를 출력**  "
   ]
  },
  {
   "cell_type": "markdown",
   "id": "e7df32de-77cb-4db2-ba2a-8e985cb65e72",
   "metadata": {},
   "source": [
    "![퍼셉트론](https://velog.velcdn.com/images%2Fjakeseo_me%2Fpost%2Fc120731c-21dd-4eec-8ee3-58b6e6f52d05%2Fperceptron.jpg)\n",
    "\n",
    "[그림1-1] 입력이 2개인 퍼셉트론"
   ]
  },
  {
   "cell_type": "markdown",
   "id": "7b190548-74a3-4278-944d-176a342adfbb",
   "metadata": {},
   "source": [
    "- 입력 신호: $x_{1}$, $x_{2}$\n",
    "- 출력 신호: $y$  \n",
    "- 가중치: $w_{1}$, $w_{2}$  \n",
    "- (그림의) 원: 뉴런 or 노드"
   ]
  },
  {
   "cell_type": "markdown",
   "id": "8ed3d406-c204-4b87-b306-91a794f30773",
   "metadata": {},
   "source": [
    "- 퍼셉트론 신호 값:  \n",
    "        1 (신호가 흐른다)  \n",
    "        0 (신호가 안 흐른다)\n",
    "- 각각의 입력 신호에 고유한 **가중치**가 할당되어 곱해짐($w_{1}x_{1}$, $w_{2}x_{2}$)\n",
    "- **가중치**: 각 신호가 결과에 주는 영향력 조절하는 요소, 중요도(가중치가 클수록 해당 신호가 그만큼 더 중요함)\n",
    "- 뉴런에서 보내온 신호의 총합($w_{1}x_{1} + w_{2}x_{2}$)이 정해진 한계(**임계값**, $\\theta$)을 넘어설 때만 1을 출력  \n",
    "  -> '뉴런이 활성화한다'\n",
    "#### **퍼셉트론 동작 원리의 수학적 표현**\n",
    "$y =\n",
    "\\begin{cases}\n",
    "1,\\;if\\;w_{1}x_{1} + w_{2}x_{2} > \\theta \\\\\n",
    "0,\\;otherwise\\;(w_{1}x_{1} + w_{2}x_{2} \\leq \\theta)\n",
    "\\end{cases}$"
   ]
  },
  {
   "cell_type": "markdown",
   "id": "771086bf-5982-4d26-8f21-66ba5130b4d4",
   "metadata": {},
   "source": [
    "# **2. 단순 논리 회로**\n",
    "### **2.1 퍼셉트론으로 AND, NAND, OR 논리 회로를 표현해보자.**\n",
    "##### **how?** 진리표대로 작동하도록 하는 $w_{1},\\;w_{2},\\;\\theta$ 값 설정하기\n",
    "- 진리표: 입력 신호와 출력 신호의 대응 표\n",
    "1. AND 게이트\n",
    "2. NAND 게이트\n",
    "3. OR 게이트\n",
    "- 입력: 2개  \n",
    "- 출력: 1개  "
   ]
  },
  {
   "cell_type": "markdown",
   "id": "90ec6785-4e81-40d7-9901-05175b2b0c12",
   "metadata": {},
   "source": [
    "#### **AND 게이트**\n",
    "**두 입력이 모두 1일 때만 1을 출력, 그 외에는 0을 출력** \n",
    "\n",
    "($w_{1}$, $w_{2}$, $\\theta$) = (0.5, 0.5, 0.7) or (0.5, 0.5, 0.8) or (0.5, 0.5, 1.0)  \n",
    "-> [그림2-1] 진리표를 만족하는 매개변수 조합은 무수히 많음.\n",
    "\n",
    "<img src=\"https://img1.daumcdn.net/thumb/R1280x0/?scode=mtistory2&fname=https%3A%2F%2Fblog.kakaocdn.net%2Fdn%2Fbi03NF%2FbtsDofZBfAI%2FjkPPmc0s7K52Eb9X9Mx5aK%2Fimg.png\" width=\"300\" height=\"300\"/>\n",
    "\n",
    "[그림2-1] AND 게이트의 진리표  "
   ]
  },
  {
   "cell_type": "markdown",
   "id": "20b11051-7316-4c5a-9ba6-a8b7e0d31d46",
   "metadata": {},
   "source": [
    "#### **NAND 게이트**\n",
    "NAND(Not AND): **AND 게이트의 출력을 뒤집은 것**  \n",
    "**두 입력이 모두 1일 때만 0을 출력, 그 외에는 1을 출력** \n",
    "\n",
    "($w_{1}$, $w_{2}$, $\\theta$) = (-0.5, -0.5, -0.7) or (-0.5, -0.5, -0.8) or (-0.5, -0.5, -1.0)  \n",
    "-> AND 게이트를 구현하는 매개변수의 부호를 모두 반전하면 됨.\n",
    "\n",
    "<img src=\"https://img1.daumcdn.net/thumb/R1280x0/?scode=mtistory2&fname=https%3A%2F%2Fblog.kakaocdn.net%2Fdn%2FqFYJ9%2FbtsDpykcB1B%2FWALeGzKJuUBkiEvZ1kK3l0%2Fimg.png\" width=\"300\" height=\"300\"/>\n",
    "\n",
    "[그림2-2] NAND 게이트의 진리표  "
   ]
  },
  {
   "cell_type": "markdown",
   "id": "13485261-d611-420c-b9ca-df067aa100cf",
   "metadata": {},
   "source": [
    "#### **OR 게이트**\n",
    "**입력 신호 중 하나 이상이 1일 때 1을 출력, 그 외(입력 신호가 모두 0)에는 0을 출력** \n",
    "\n",
    "($w_{1}$, $w_{2}$, $\\theta$) = (0.5, 0.5, 0.4)  \n",
    "\n",
    "<img src=\"https://img1.daumcdn.net/thumb/R1280x0/?scode=mtistory2&fname=https%3A%2F%2Fblog.kakaocdn.net%2Fdn%2Fdm0sc1%2FbtsDp3K6flk%2FzQIoLim9iy4HooM8iv94P1%2Fimg.png\" width=\"300\" height=\"300\"/>\n",
    "\n",
    "[그림2-3] OR 게이트의 진리표  "
   ]
  },
  {
   "cell_type": "markdown",
   "id": "69523484-82ab-43f2-b974-437db877b71a",
   "metadata": {},
   "source": [
    "### **2.2 학습이란?**\n",
    "**최적의 매개변수 값을 설정하는 작업**\n",
    "\n",
    "#### **in 퍼셉트론으로 논리회로 표현**\n",
    "퍼셉트론의 구조는 모든 게이트에서 동일함, 매개변수(가중치와 임계값)의 값만 다름.  \n",
    "우리(사람)가 직접 학습 데이터를 보며 매개변수 값을 설정함.\n",
    "- 학습 데이터: 진리표\n",
    "- 퍼셉트론의 매개변수 값을 정하는 주체: 사람 (not 컴퓨터)\n",
    "\n",
    "#### **in 기계학습**\n",
    "컴퓨터가 자동으로 매개변수 값을 설정함.  \n",
    "사람: 퍼셉트론의 구조(모델) 결정, 학습 데이터 컴퓨터에게 제공\n",
    "##### **Q. 기계학습이 딥러닝과 무슨 관계인가? [(딥러닝과 머신러닝의 차이점)](https://mvje.tistory.com/138)**\n",
    "A. 딥러닝은 기계학습의 한 종류이다!  \n",
    "딥러닝: 인공신경망(Artificial Neural Network, ANN)을 사용하여 대규모의 데이터를 학습하는 기계학습(Machine Learning)의 한 분야"
   ]
  },
  {
   "cell_type": "markdown",
   "id": "85ef4af0-ff8c-4052-a9f1-b989b2a6b1cd",
   "metadata": {},
   "source": [
    "# **3. 퍼셉트론 구현하기**"
   ]
  },
  {
   "cell_type": "markdown",
   "id": "6f099388-e548-459f-91b2-3529edf08723",
   "metadata": {},
   "source": [
    "### **3.1 논리회로 구현**"
   ]
  },
  {
   "cell_type": "code",
   "execution_count": 181,
   "id": "604b7753-dc37-493e-9cb4-2230499eff19",
   "metadata": {},
   "outputs": [],
   "source": [
    "def AND(x1, x2):\n",
    "    w1, w2, theta = 0.5, 0.5, 0.7    # 매개변수 초기화\n",
    "    tmp = x1*w1 + x2*w2\n",
    "    if tmp > theta:\n",
    "        return 1\n",
    "    else:\n",
    "        return 0"
   ]
  },
  {
   "cell_type": "code",
   "execution_count": 185,
   "id": "35eac16e-92cf-49b6-a4c8-8cf03f9731c8",
   "metadata": {},
   "outputs": [
    {
     "name": "stdout",
     "output_type": "stream",
     "text": [
      "0\n",
      "0\n",
      "0\n",
      "1\n"
     ]
    }
   ],
   "source": [
    "print(AND(0, 0))\n",
    "print(AND(1, 0))\n",
    "print(AND(0, 1))\n",
    "print(AND(1, 1))"
   ]
  },
  {
   "cell_type": "markdown",
   "id": "a2bed127-776d-4ee1-87f2-6a155abb2e3f",
   "metadata": {},
   "source": [
    "### **3.2 가중치와 편향 도입**\n",
    "#### **$\\theta$를 $-b$로 치환하자.**\n",
    "$y =\n",
    "\\begin{cases}\n",
    "1,\\;if\\;w_{1}x_{1} + w_{2}x_{2} + b > 0 \\\\\n",
    "0,\\;otherwise\\;(w_{1}x_{1} + w_{2}x_{2} + b \\leq 0)\n",
    "\\end{cases}$  \n",
    "- $b$ : **편향(bias)**\n",
    "- $w_{1}, w_{2}$ : 가중치\n",
    "> **퍼셉트론**: 입력 신호에 가중치를 곱한 값과 편향을 합하여, 그 값이 0을 넘으면 1, 그렇지 않으면 0을 출력함."
   ]
  },
  {
   "cell_type": "code",
   "execution_count": 219,
   "id": "add96c1a-1d2c-45d5-a3f1-daf9dffdeaae",
   "metadata": {},
   "outputs": [],
   "source": [
    "# 'numpy를 이용한' 퍼셉트론 식 구현\n",
    "import numpy as np\n",
    "x = np.array([0, 1])    # 입력\n",
    "w = np.array([0.5, 0.5])    # 가중치\n",
    "b = -0.7    # 편향"
   ]
  },
  {
   "cell_type": "markdown",
   "id": "fefe90ae-a308-41d8-b0ab-44987dcb1c90",
   "metadata": {},
   "source": [
    "**element-wise product(원소별 곱셈)**: index가 같은 원소끼리 곱함."
   ]
  },
  {
   "cell_type": "code",
   "execution_count": 222,
   "id": "bf5dd238-effc-4416-9096-8309e9e70698",
   "metadata": {},
   "outputs": [
    {
     "data": {
      "text/plain": [
       "array([0. , 0.5])"
      ]
     },
     "execution_count": 222,
     "metadata": {},
     "output_type": "execute_result"
    }
   ],
   "source": [
    "w*x"
   ]
  },
  {
   "cell_type": "markdown",
   "id": "349f2c35-e9cf-4ad2-954a-89d74550f9ec",
   "metadata": {},
   "source": [
    "**np.sum()**: 입력한 배열에 담긴 모든 원소의 총합 계산"
   ]
  },
  {
   "cell_type": "code",
   "execution_count": 225,
   "id": "c4435b08-f213-4154-bffa-2f0cc0ee6701",
   "metadata": {},
   "outputs": [
    {
     "data": {
      "text/plain": [
       "0.5"
      ]
     },
     "execution_count": 225,
     "metadata": {},
     "output_type": "execute_result"
    }
   ],
   "source": [
    "np.sum(w*x)"
   ]
  },
  {
   "cell_type": "code",
   "execution_count": 227,
   "id": "035dfb40-0cd2-4f35-9fce-c19b59c82eeb",
   "metadata": {},
   "outputs": [
    {
     "data": {
      "text/plain": [
       "-0.19999999999999996"
      ]
     },
     "execution_count": 227,
     "metadata": {},
     "output_type": "execute_result"
    }
   ],
   "source": [
    "np.sum(w*x) + b"
   ]
  },
  {
   "cell_type": "markdown",
   "id": "80f8691b-eca6-46af-8e60-2a56900615ce",
   "metadata": {},
   "source": [
    "$w*x + b = -0.19999999999999996 \\leq 0$  \n",
    "이므로 $y = 0$임."
   ]
  },
  {
   "cell_type": "markdown",
   "id": "67e7abfc-7957-49e9-b1b5-6e521f977b1b",
   "metadata": {},
   "source": [
    "### **3.3 가중치와 편향 구현**\n",
    "- $-\\theta$가 편향 $b$로 치환\n",
    "- **가중치**: 각 입력 신호가 결과에 주는 영향력(중요도) 조절하는 매개변수\n",
    "- **편향**: 뉴런이 얼마나 쉽게 활성화되는지(결과로 1을 출력)를 조정하는 매개변수  \n",
    "        ex1) $b = -0.1$ -> 각 입력 신호에 가중치를 곱한 값들의 합이 0.1를 초과할 때만 뉴런 활성화됨.  \n",
    "        ex2) $b = -20.0$ -> 각 입력 신호에 가중치를 곱한 값들의 합이 20.0을 초과할 때만 뉴런 활성화됨."
   ]
  },
  {
   "cell_type": "markdown",
   "id": "84619ba8-1eab-4144-b35e-ff7fe3dd98e7",
   "metadata": {},
   "source": [
    "#### **'가중치와 편향 도입한' AND 게이트**\n",
    "($w_{1}$, $w_{2}$, $\\theta$) = (0.5, 0.5, 0.7) 사용  \n",
    "주의) $b = -\\theta$"
   ]
  },
  {
   "cell_type": "code",
   "execution_count": 229,
   "id": "0e675bb4-310e-47c4-961c-a9a4acd173b1",
   "metadata": {},
   "outputs": [],
   "source": [
    "def AND(x1, x2):\n",
    "    x = np.array([x1, x2])\n",
    "    w = np.array([0.5, 0.5])\n",
    "    b = -0.7\n",
    "    tmp = np.sum(w*x) + b\n",
    "    if tmp > 0:\n",
    "        return 1\n",
    "    else:\n",
    "        return 0"
   ]
  },
  {
   "cell_type": "markdown",
   "id": "a734a2ba-bd50-4178-8262-9a3a89ff3f2b",
   "metadata": {},
   "source": [
    "**NAND, OR 게이트 구현**: w, b(매개변수 값)만 바꿔주면 됨. \n",
    "\n",
    "**AND, NAND, OR 게이트의 공통점 및 차이점**  \n",
    "공통점: 퍼셉트론의 구조  \n",
    "차이점: w, b(매개변수 값)   \n",
    "\n",
    "ex)  \n",
    "NAND 게이트: ($w_{1}$, $w_{2}$, $\\theta$) = (-0.5, -0.5, -0.7)  \n",
    "OR 게이트: ($w_{1}$, $w_{2}$, $\\theta$) = (0.5, 0.5, 0.4)"
   ]
  },
  {
   "cell_type": "code",
   "execution_count": 301,
   "id": "3df1c33b-0c0a-4c1b-b49e-40afb4dda2e9",
   "metadata": {},
   "outputs": [],
   "source": [
    "# NAND 게이트 구현\n",
    "def NAND(x1, x2):\n",
    "    x = np.array([x1, x2])\n",
    "    w = np.array([-0.5, -0.5])\n",
    "    b = 0.7\n",
    "    tmp = np.sum(w*x) + b\n",
    "    if tmp > 0:\n",
    "        return 1\n",
    "    else:\n",
    "        return 0"
   ]
  },
  {
   "cell_type": "code",
   "execution_count": 303,
   "id": "8bbf0406-07b5-46ec-a4b6-32f36c814411",
   "metadata": {},
   "outputs": [],
   "source": [
    "# OR 게이트 구현\n",
    "def OR(x1, x2):\n",
    "    x = np.array([x1, x2])\n",
    "    w = np.array([0.5, 0.5])\n",
    "    b = -0.4\n",
    "    tmp = np.sum(w*x) + b\n",
    "    if tmp > 0:\n",
    "        return 1\n",
    "    else:\n",
    "        return 0"
   ]
  },
  {
   "cell_type": "markdown",
   "id": "81fb59fe-806b-48f6-96e2-d36a909991f6",
   "metadata": {},
   "source": [
    "# **4. 퍼셉트론의 한계**\n",
    "- **단층 퍼셉트론(single-layer perceptron)**\n",
    "으로는 XOR 게이트를 표현할 수 없다.\n",
    "- **단층 퍼셉트론은 비선형 영역을 분리할 수 없다.**"
   ]
  },
  {
   "cell_type": "markdown",
   "id": "628d1491-cccd-4e77-ba35-4f1a982e3e90",
   "metadata": {},
   "source": [
    "### **4.1 XOR 게이트**\n",
    "XOR 게이트(배타적 논리합): **$x_1, x_2$ 중 한쪽이 1일 때만 1을 출력**  \n",
    "퍼셉트론의 시각화에서 출력값이 0일 때와 1일 때를 **직선**으로 나누는 것 불가능함."
   ]
  },
  {
   "cell_type": "markdown",
   "id": "970d0b93-e3af-4443-b5fe-eacc4ef643ca",
   "metadata": {},
   "source": [
    "### **4.2 선형과 비선형**\n",
    "- **비선형 영역**: 곡선의 영역  \n",
    "- **선형 영역**: 직선의 영역  \n",
    "if 직선 제약을 없애면 -> 곡선으로 나눌 수 있음.  \n",
    "#### **but 퍼셉트론의 한계** \n",
    "**직선 하나로 나눈 영역만 표현 가능함.** -> 곡선 표현 불가능"
   ]
  },
  {
   "cell_type": "markdown",
   "id": "5a5cde52-9612-4d37-a849-9f41d825b83d",
   "metadata": {},
   "source": [
    "# **5. 다층 퍼셉트론(multi-layer perceptron)**\n",
    "다층 퍼셉트론을 사용하여 XOR 게이트 문제를 해결해보자.  \n",
    "#### **다층 퍼셉트론**\n",
    "**층이 여러 개인 퍼셉트론**"
   ]
  },
  {
   "cell_type": "markdown",
   "id": "0e930163-85de-46f5-938e-284e62ab304b",
   "metadata": {},
   "source": [
    "### **5.1 기존 게이트 조합하기**\n",
    "입력 신호 $x_1, x_2$와 출력 신호 $y$가 있을 때,  \n",
    "**$x_1, x_2$는 NAND와 OR 게이트의 입력**이 되고, **NAND와 OR 게이트의 출력이 AND 게이트의 입력**으로 이어지도록 **AND, NAND, OR 게이트를 조합**하기"
   ]
  },
  {
   "cell_type": "markdown",
   "id": "29dca168-8c38-425f-9a2b-91b4ae814a51",
   "metadata": {},
   "source": [
    "### **5.2 XOR 게이트 구현하기**"
   ]
  },
  {
   "cell_type": "code",
   "execution_count": 305,
   "id": "1b11c44f-0927-47fd-afbd-7d3f0ea53bb5",
   "metadata": {},
   "outputs": [],
   "source": [
    "def XOR(x1, x2):\n",
    "    s1 = NAND(x1, x2)\n",
    "    s2 = OR(x1, x2)\n",
    "    y = AND(s1, s2)\n",
    "    return y"
   ]
  },
  {
   "cell_type": "code",
   "execution_count": 307,
   "id": "69ad19bb-2d8a-43c4-91b6-9752fa0fadc9",
   "metadata": {},
   "outputs": [
    {
     "name": "stdout",
     "output_type": "stream",
     "text": [
      "0\n",
      "1\n",
      "1\n",
      "0\n"
     ]
    }
   ],
   "source": [
    "print(XOR(0, 0))\n",
    "print(XOR(1, 0))\n",
    "print(XOR(0, 1))\n",
    "print(XOR(1, 1))"
   ]
  },
  {
   "cell_type": "markdown",
   "id": "49aa61ff-4f95-4c64-a694-e6aa08734567",
   "metadata": {},
   "source": [
    "#### **XOR의 다층 퍼셉트론**\n",
    "- AND, OR: 단층 퍼셉트론\n",
    "- XOR: 다층 퍼셉트론(2층 퍼셉트론)  \n",
    "  *구성 층의 수를 기준으로 '3층 퍼셉트론'이라 하는 경우도 있음*"
   ]
  },
  {
   "cell_type": "markdown",
   "id": "dc5b8ad2-0e96-41e0-9b46-e33a430e1e24",
   "metadata": {},
   "source": [
    "![XOR의 퍼셉트론](data:image/png;base64,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)\n",
    "\n",
    "[그림 5-1] XOR의 퍼셉트론  \n",
    "1. 0층의 두 뉴런이 입력 신호를 받아 1층의 뉴런으로 신호 보냄.\n",
    "2. 1층의 두 뉴런이 신호를 받아 2층의 뉴런으로 신호 보냄.\n",
    "3. 2층의 뉴런이 받은 신호를 바탕으로 y를 출력함."
   ]
  },
  {
   "cell_type": "markdown",
   "id": "941c304f-a0bf-4cbc-817c-475026d8889e",
   "metadata": {},
   "source": [
    "> 단층 퍼셉트론으로는 표현하지 못한 것을 층을 쌓아(층을 늘려, 깊게 하여->**다층 퍼셉트론**) 더 다양한 것을 표현할 수 있다."
   ]
  },
  {
   "cell_type": "markdown",
   "id": "c061a629-9aeb-4810-a06d-f1b5f3b28b62",
   "metadata": {},
   "source": [
    "# **6. 퍼셉트론으로 컴퓨터 표현**"
   ]
  },
  {
   "cell_type": "markdown",
   "id": "a2d5926c-ad97-4ab6-979a-3409d335e497",
   "metadata": {},
   "source": [
    "#### **다층 퍼셉트론(이론상 2층 퍼셉트론)으로 컴퓨터를 만들 수 있다!**\n",
    "- NAND 게이트의 조합만으로 컴퓨터를 만들 수 있다.\n",
    "- NAND 게이트는 퍼셉트론으로 만들 수 있다."
   ]
  },
  {
   "cell_type": "markdown",
   "id": "5ba39940-a28d-484a-87f3-a18fb408a0bf",
   "metadata": {},
   "source": [
    "> **퍼셉트론**  \n",
    "> 층을 거듭 쌓으면 비선형적인 표현도 가능하고, 이론상 컴퓨터가 수행하는 처리도 모두 표현할 수 있다."
   ]
  },
  {
   "cell_type": "markdown",
   "id": "e9156d30-5db3-4bc5-a100-2f63c6b79694",
   "metadata": {},
   "source": [
    "# **7. 요약**\n",
    "- 퍼셉트론은 입출력을 갖춘 알고리즘이다. 입력을 주면 정해진 규칙에 따른 값을 출력한다.\n",
    "- 퍼셉트론에서는 **가중치**와 **편향**을 매개변수로 설정한다.  \n",
    "  *내가(사람) 데이터(진리표)를 보고 직접 설정했음*\n",
    "- 퍼셉트론으로 AND, NAND, OR 게이트 등의 논리 회로를 표현할 수 있다.\n",
    "- XOR 게이트는 단층 퍼셉트론으로는 표현 할 수 없다.\n",
    "- 2층 퍼셉트론(다층 퍼셉트론)을 이용하면 XOR 게이트를 표현할 수 있다.\n",
    "- **단층 퍼셉트론으로는 직선형 영역만 표현 가능, 다층 퍼셉트론은 비선형 영역도 표현 가능**\n",
    "- 다층 퍼셉트론은 (이론상) 컴퓨터를 표현할 수 있다."
   ]
  }
 ],
 "metadata": {
  "kernelspec": {
   "display_name": "Python 3 (ipykernel)",
   "language": "python",
   "name": "python3"
  },
  "language_info": {
   "codemirror_mode": {
    "name": "ipython",
    "version": 3
   },
   "file_extension": ".py",
   "mimetype": "text/x-python",
   "name": "python",
   "nbconvert_exporter": "python",
   "pygments_lexer": "ipython3",
   "version": "3.11.7"
  }
 },
 "nbformat": 4,
 "nbformat_minor": 5
}
